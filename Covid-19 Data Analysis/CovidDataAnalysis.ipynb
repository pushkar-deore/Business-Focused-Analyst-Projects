{
 "cells": [
  {
   "cell_type": "markdown",
   "id": "ed293743",
   "metadata": {},
   "source": [
    "5. COVID-19 Data Analysis\n",
    "   - Goal: Analyze COVID trends by country, time, and severity.\n",
    "   - Dataset: Kaggle COVID-19 Dataset.\n",
    "   - Tools: Pandas, Seaborn, Plotly.\n",
    "   - Skills: Time series analysis, groupby operations, data wrangling."
   ]
  },
  {
   "cell_type": "code",
   "execution_count": 2,
   "id": "3101bbdf",
   "metadata": {},
   "outputs": [],
   "source": [
    "# Importing requires libraries\n",
    "\n",
    "import pandas as pd\n",
    "import numpy as np\n",
    "import seaborn as sns\n",
    "import matplotlib.pyplot as plt\n",
    "import plotly.express as px\n"
   ]
  },
  {
   "cell_type": "code",
   "execution_count": 3,
   "id": "28a22094",
   "metadata": {},
   "outputs": [
    {
     "data": {
      "text/html": [
       "<div>\n",
       "<style scoped>\n",
       "    .dataframe tbody tr th:only-of-type {\n",
       "        vertical-align: middle;\n",
       "    }\n",
       "\n",
       "    .dataframe tbody tr th {\n",
       "        vertical-align: top;\n",
       "    }\n",
       "\n",
       "    .dataframe thead th {\n",
       "        text-align: right;\n",
       "    }\n",
       "</style>\n",
       "<table border=\"1\" class=\"dataframe\">\n",
       "  <thead>\n",
       "    <tr style=\"text-align: right;\">\n",
       "      <th></th>\n",
       "      <th>Province/State</th>\n",
       "      <th>Country/Region</th>\n",
       "      <th>Lat</th>\n",
       "      <th>Long</th>\n",
       "      <th>Date</th>\n",
       "      <th>Confirmed</th>\n",
       "      <th>Deaths</th>\n",
       "      <th>Recovered</th>\n",
       "      <th>Active</th>\n",
       "      <th>WHO Region</th>\n",
       "    </tr>\n",
       "  </thead>\n",
       "  <tbody>\n",
       "    <tr>\n",
       "      <th>0</th>\n",
       "      <td>NaN</td>\n",
       "      <td>Afghanistan</td>\n",
       "      <td>33.93911</td>\n",
       "      <td>67.709953</td>\n",
       "      <td>2020-01-22</td>\n",
       "      <td>0</td>\n",
       "      <td>0</td>\n",
       "      <td>0</td>\n",
       "      <td>0</td>\n",
       "      <td>Eastern Mediterranean</td>\n",
       "    </tr>\n",
       "    <tr>\n",
       "      <th>1</th>\n",
       "      <td>NaN</td>\n",
       "      <td>Albania</td>\n",
       "      <td>41.15330</td>\n",
       "      <td>20.168300</td>\n",
       "      <td>2020-01-22</td>\n",
       "      <td>0</td>\n",
       "      <td>0</td>\n",
       "      <td>0</td>\n",
       "      <td>0</td>\n",
       "      <td>Europe</td>\n",
       "    </tr>\n",
       "    <tr>\n",
       "      <th>2</th>\n",
       "      <td>NaN</td>\n",
       "      <td>Algeria</td>\n",
       "      <td>28.03390</td>\n",
       "      <td>1.659600</td>\n",
       "      <td>2020-01-22</td>\n",
       "      <td>0</td>\n",
       "      <td>0</td>\n",
       "      <td>0</td>\n",
       "      <td>0</td>\n",
       "      <td>Africa</td>\n",
       "    </tr>\n",
       "    <tr>\n",
       "      <th>3</th>\n",
       "      <td>NaN</td>\n",
       "      <td>Andorra</td>\n",
       "      <td>42.50630</td>\n",
       "      <td>1.521800</td>\n",
       "      <td>2020-01-22</td>\n",
       "      <td>0</td>\n",
       "      <td>0</td>\n",
       "      <td>0</td>\n",
       "      <td>0</td>\n",
       "      <td>Europe</td>\n",
       "    </tr>\n",
       "    <tr>\n",
       "      <th>4</th>\n",
       "      <td>NaN</td>\n",
       "      <td>Angola</td>\n",
       "      <td>-11.20270</td>\n",
       "      <td>17.873900</td>\n",
       "      <td>2020-01-22</td>\n",
       "      <td>0</td>\n",
       "      <td>0</td>\n",
       "      <td>0</td>\n",
       "      <td>0</td>\n",
       "      <td>Africa</td>\n",
       "    </tr>\n",
       "  </tbody>\n",
       "</table>\n",
       "</div>"
      ],
      "text/plain": [
       "  Province/State Country/Region       Lat       Long        Date  Confirmed  \\\n",
       "0            NaN    Afghanistan  33.93911  67.709953  2020-01-22          0   \n",
       "1            NaN        Albania  41.15330  20.168300  2020-01-22          0   \n",
       "2            NaN        Algeria  28.03390   1.659600  2020-01-22          0   \n",
       "3            NaN        Andorra  42.50630   1.521800  2020-01-22          0   \n",
       "4            NaN         Angola -11.20270  17.873900  2020-01-22          0   \n",
       "\n",
       "   Deaths  Recovered  Active             WHO Region  \n",
       "0       0          0       0  Eastern Mediterranean  \n",
       "1       0          0       0                 Europe  \n",
       "2       0          0       0                 Africa  \n",
       "3       0          0       0                 Europe  \n",
       "4       0          0       0                 Africa  "
      ]
     },
     "execution_count": 3,
     "metadata": {},
     "output_type": "execute_result"
    }
   ],
   "source": [
    "# loading dataset\n",
    "df = pd.read_csv('covid_19_clean_complete.csv')\n",
    "\n",
    "# Show top 5 rows\n",
    "df.head()"
   ]
  },
  {
   "cell_type": "code",
   "execution_count": 4,
   "id": "7314acc1",
   "metadata": {},
   "outputs": [
    {
     "name": "stdout",
     "output_type": "stream",
     "text": [
      "<class 'pandas.core.frame.DataFrame'>\n",
      "RangeIndex: 49068 entries, 0 to 49067\n",
      "Data columns (total 10 columns):\n",
      " #   Column          Non-Null Count  Dtype  \n",
      "---  ------          --------------  -----  \n",
      " 0   Province/State  14664 non-null  object \n",
      " 1   Country/Region  49068 non-null  object \n",
      " 2   Lat             49068 non-null  float64\n",
      " 3   Long            49068 non-null  float64\n",
      " 4   Date            49068 non-null  object \n",
      " 5   Confirmed       49068 non-null  int64  \n",
      " 6   Deaths          49068 non-null  int64  \n",
      " 7   Recovered       49068 non-null  int64  \n",
      " 8   Active          49068 non-null  int64  \n",
      " 9   WHO Region      49068 non-null  object \n",
      "dtypes: float64(2), int64(4), object(4)\n",
      "memory usage: 3.7+ MB\n"
     ]
    },
    {
     "data": {
      "text/plain": [
       "Index(['Province/State', 'Country/Region', 'Lat', 'Long', 'Date', 'Confirmed',\n",
       "       'Deaths', 'Recovered', 'Active', 'WHO Region'],\n",
       "      dtype='object')"
      ]
     },
     "execution_count": 4,
     "metadata": {},
     "output_type": "execute_result"
    }
   ],
   "source": [
    "# Check data types and missing values\n",
    "df.info()\n",
    "\n",
    "# Summary statistics\n",
    "df.describe()\n",
    "\n",
    "# Check column names\n",
    "df.columns"
   ]
  },
  {
   "cell_type": "markdown",
   "id": "7fea33e2",
   "metadata": {},
   "source": [
    "Data Cleaning and Preparation"
   ]
  },
  {
   "cell_type": "code",
   "execution_count": 5,
   "id": "c1190da4",
   "metadata": {},
   "outputs": [
    {
     "name": "stdout",
     "output_type": "stream",
     "text": [
      "<class 'pandas.core.frame.DataFrame'>\n",
      "RangeIndex: 49068 entries, 0 to 49067\n",
      "Data columns (total 10 columns):\n",
      " #   Column      Non-Null Count  Dtype         \n",
      "---  ------      --------------  -----         \n",
      " 0   Province    14664 non-null  object        \n",
      " 1   Country     49068 non-null  object        \n",
      " 2   Lat         49068 non-null  float64       \n",
      " 3   Long        49068 non-null  float64       \n",
      " 4   Date        49068 non-null  datetime64[ns]\n",
      " 5   Confirmed   49068 non-null  int64         \n",
      " 6   Deaths      49068 non-null  int64         \n",
      " 7   Recovered   49068 non-null  int64         \n",
      " 8   Active      49068 non-null  int64         \n",
      " 9   WHO Region  49068 non-null  object        \n",
      "dtypes: datetime64[ns](1), float64(2), int64(4), object(3)\n",
      "memory usage: 3.7+ MB\n"
     ]
    },
    {
     "data": {
      "text/html": [
       "<div>\n",
       "<style scoped>\n",
       "    .dataframe tbody tr th:only-of-type {\n",
       "        vertical-align: middle;\n",
       "    }\n",
       "\n",
       "    .dataframe tbody tr th {\n",
       "        vertical-align: top;\n",
       "    }\n",
       "\n",
       "    .dataframe thead th {\n",
       "        text-align: right;\n",
       "    }\n",
       "</style>\n",
       "<table border=\"1\" class=\"dataframe\">\n",
       "  <thead>\n",
       "    <tr style=\"text-align: right;\">\n",
       "      <th></th>\n",
       "      <th>Province</th>\n",
       "      <th>Country</th>\n",
       "      <th>Lat</th>\n",
       "      <th>Long</th>\n",
       "      <th>Date</th>\n",
       "      <th>Confirmed</th>\n",
       "      <th>Deaths</th>\n",
       "      <th>Recovered</th>\n",
       "      <th>Active</th>\n",
       "      <th>WHO Region</th>\n",
       "    </tr>\n",
       "  </thead>\n",
       "  <tbody>\n",
       "    <tr>\n",
       "      <th>0</th>\n",
       "      <td>NaN</td>\n",
       "      <td>Afghanistan</td>\n",
       "      <td>33.93911</td>\n",
       "      <td>67.709953</td>\n",
       "      <td>2020-01-22</td>\n",
       "      <td>0</td>\n",
       "      <td>0</td>\n",
       "      <td>0</td>\n",
       "      <td>0</td>\n",
       "      <td>Eastern Mediterranean</td>\n",
       "    </tr>\n",
       "    <tr>\n",
       "      <th>1</th>\n",
       "      <td>NaN</td>\n",
       "      <td>Albania</td>\n",
       "      <td>41.15330</td>\n",
       "      <td>20.168300</td>\n",
       "      <td>2020-01-22</td>\n",
       "      <td>0</td>\n",
       "      <td>0</td>\n",
       "      <td>0</td>\n",
       "      <td>0</td>\n",
       "      <td>Europe</td>\n",
       "    </tr>\n",
       "    <tr>\n",
       "      <th>2</th>\n",
       "      <td>NaN</td>\n",
       "      <td>Algeria</td>\n",
       "      <td>28.03390</td>\n",
       "      <td>1.659600</td>\n",
       "      <td>2020-01-22</td>\n",
       "      <td>0</td>\n",
       "      <td>0</td>\n",
       "      <td>0</td>\n",
       "      <td>0</td>\n",
       "      <td>Africa</td>\n",
       "    </tr>\n",
       "    <tr>\n",
       "      <th>3</th>\n",
       "      <td>NaN</td>\n",
       "      <td>Andorra</td>\n",
       "      <td>42.50630</td>\n",
       "      <td>1.521800</td>\n",
       "      <td>2020-01-22</td>\n",
       "      <td>0</td>\n",
       "      <td>0</td>\n",
       "      <td>0</td>\n",
       "      <td>0</td>\n",
       "      <td>Europe</td>\n",
       "    </tr>\n",
       "    <tr>\n",
       "      <th>4</th>\n",
       "      <td>NaN</td>\n",
       "      <td>Angola</td>\n",
       "      <td>-11.20270</td>\n",
       "      <td>17.873900</td>\n",
       "      <td>2020-01-22</td>\n",
       "      <td>0</td>\n",
       "      <td>0</td>\n",
       "      <td>0</td>\n",
       "      <td>0</td>\n",
       "      <td>Africa</td>\n",
       "    </tr>\n",
       "  </tbody>\n",
       "</table>\n",
       "</div>"
      ],
      "text/plain": [
       "  Province      Country       Lat       Long       Date  Confirmed  Deaths  \\\n",
       "0      NaN  Afghanistan  33.93911  67.709953 2020-01-22          0       0   \n",
       "1      NaN      Albania  41.15330  20.168300 2020-01-22          0       0   \n",
       "2      NaN      Algeria  28.03390   1.659600 2020-01-22          0       0   \n",
       "3      NaN      Andorra  42.50630   1.521800 2020-01-22          0       0   \n",
       "4      NaN       Angola -11.20270  17.873900 2020-01-22          0       0   \n",
       "\n",
       "   Recovered  Active             WHO Region  \n",
       "0          0       0  Eastern Mediterranean  \n",
       "1          0       0                 Europe  \n",
       "2          0       0                 Africa  \n",
       "3          0       0                 Europe  \n",
       "4          0       0                 Africa  "
      ]
     },
     "execution_count": 5,
     "metadata": {},
     "output_type": "execute_result"
    }
   ],
   "source": [
    "df.columns\n",
    "\n",
    "# rename columns for easy use\n",
    "df.rename(columns={\n",
    "    'Province/State': 'Province',\n",
    "    'Country/Region': 'Country',\n",
    "}, inplace=True)\n",
    "\n",
    "\n",
    "# Convert Date Column to datetime\n",
    "df['Date'] = pd.to_datetime(df['Date'])\n",
    "\n",
    "\n",
    "# Handling Missing Values\n",
    "df.isnull().sum()\n",
    "\n",
    "\n",
    "# adding 'Active' column\n",
    "df['Active'] = df['Confirmed'] - df['Deaths'] - df['Recovered']\n",
    "\n",
    "\n",
    "# recheck data\n",
    "df.info()\n",
    "df.head()\n",
    "\n"
   ]
  },
  {
   "cell_type": "markdown",
   "id": "e1c2c802",
   "metadata": {},
   "source": [
    "Data Aggregation & GroupBy Operations"
   ]
  },
  {
   "cell_type": "code",
   "execution_count": 6,
   "id": "968c5e30",
   "metadata": {},
   "outputs": [
    {
     "data": {
      "text/html": [
       "<div>\n",
       "<style scoped>\n",
       "    .dataframe tbody tr th:only-of-type {\n",
       "        vertical-align: middle;\n",
       "    }\n",
       "\n",
       "    .dataframe tbody tr th {\n",
       "        vertical-align: top;\n",
       "    }\n",
       "\n",
       "    .dataframe thead th {\n",
       "        text-align: right;\n",
       "    }\n",
       "</style>\n",
       "<table border=\"1\" class=\"dataframe\">\n",
       "  <thead>\n",
       "    <tr style=\"text-align: right;\">\n",
       "      <th></th>\n",
       "      <th>Confirmed</th>\n",
       "      <th>Deaths</th>\n",
       "      <th>Recovered</th>\n",
       "      <th>Active</th>\n",
       "    </tr>\n",
       "    <tr>\n",
       "      <th>Country</th>\n",
       "      <th></th>\n",
       "      <th></th>\n",
       "      <th></th>\n",
       "      <th></th>\n",
       "    </tr>\n",
       "  </thead>\n",
       "  <tbody>\n",
       "    <tr>\n",
       "      <th>US</th>\n",
       "      <td>4290259</td>\n",
       "      <td>148011</td>\n",
       "      <td>1325804</td>\n",
       "      <td>2816444</td>\n",
       "    </tr>\n",
       "    <tr>\n",
       "      <th>Brazil</th>\n",
       "      <td>2442375</td>\n",
       "      <td>87618</td>\n",
       "      <td>1846641</td>\n",
       "      <td>583080</td>\n",
       "    </tr>\n",
       "    <tr>\n",
       "      <th>India</th>\n",
       "      <td>1480073</td>\n",
       "      <td>33408</td>\n",
       "      <td>951166</td>\n",
       "      <td>495499</td>\n",
       "    </tr>\n",
       "    <tr>\n",
       "      <th>Russia</th>\n",
       "      <td>816680</td>\n",
       "      <td>13334</td>\n",
       "      <td>602249</td>\n",
       "      <td>245382</td>\n",
       "    </tr>\n",
       "    <tr>\n",
       "      <th>South Africa</th>\n",
       "      <td>452529</td>\n",
       "      <td>7067</td>\n",
       "      <td>274925</td>\n",
       "      <td>173590</td>\n",
       "    </tr>\n",
       "    <tr>\n",
       "      <th>Mexico</th>\n",
       "      <td>395489</td>\n",
       "      <td>44022</td>\n",
       "      <td>303810</td>\n",
       "      <td>53572</td>\n",
       "    </tr>\n",
       "    <tr>\n",
       "      <th>Peru</th>\n",
       "      <td>389717</td>\n",
       "      <td>18418</td>\n",
       "      <td>272547</td>\n",
       "      <td>108616</td>\n",
       "    </tr>\n",
       "    <tr>\n",
       "      <th>Chile</th>\n",
       "      <td>347923</td>\n",
       "      <td>9187</td>\n",
       "      <td>319954</td>\n",
       "      <td>82961</td>\n",
       "    </tr>\n",
       "    <tr>\n",
       "      <th>United Kingdom</th>\n",
       "      <td>300111</td>\n",
       "      <td>45759</td>\n",
       "      <td>533</td>\n",
       "      <td>254352</td>\n",
       "    </tr>\n",
       "    <tr>\n",
       "      <th>Iran</th>\n",
       "      <td>293606</td>\n",
       "      <td>15912</td>\n",
       "      <td>255144</td>\n",
       "      <td>34887</td>\n",
       "    </tr>\n",
       "  </tbody>\n",
       "</table>\n",
       "</div>"
      ],
      "text/plain": [
       "                Confirmed  Deaths  Recovered   Active\n",
       "Country                                              \n",
       "US                4290259  148011    1325804  2816444\n",
       "Brazil            2442375   87618    1846641   583080\n",
       "India             1480073   33408     951166   495499\n",
       "Russia             816680   13334     602249   245382\n",
       "South Africa       452529    7067     274925   173590\n",
       "Mexico             395489   44022     303810    53572\n",
       "Peru               389717   18418     272547   108616\n",
       "Chile              347923    9187     319954    82961\n",
       "United Kingdom     300111   45759        533   254352\n",
       "Iran               293606   15912     255144    34887"
      ]
     },
     "execution_count": 6,
     "metadata": {},
     "output_type": "execute_result"
    }
   ],
   "source": [
    "# Total cases per country\n",
    "country_total = df.groupby('Country')[['Confirmed', 'Deaths', 'Recovered', 'Active']].max()         #taking the maximum value for each metric because each country has multiple dates\n",
    "country_total = country_total.sort_values(by='Confirmed', ascending=False)                          #which provides snapshot of peak values (usually latest totals)\n",
    "country_total.head(10)\n"
   ]
  },
  {
   "cell_type": "code",
   "execution_count": 7,
   "id": "0d00f805",
   "metadata": {},
   "outputs": [
    {
     "data": {
      "text/html": [
       "<div>\n",
       "<style scoped>\n",
       "    .dataframe tbody tr th:only-of-type {\n",
       "        vertical-align: middle;\n",
       "    }\n",
       "\n",
       "    .dataframe tbody tr th {\n",
       "        vertical-align: top;\n",
       "    }\n",
       "\n",
       "    .dataframe thead th {\n",
       "        text-align: right;\n",
       "    }\n",
       "</style>\n",
       "<table border=\"1\" class=\"dataframe\">\n",
       "  <thead>\n",
       "    <tr style=\"text-align: right;\">\n",
       "      <th></th>\n",
       "      <th>Date</th>\n",
       "      <th>Confirmed</th>\n",
       "      <th>Deaths</th>\n",
       "      <th>Recovered</th>\n",
       "      <th>Active</th>\n",
       "    </tr>\n",
       "  </thead>\n",
       "  <tbody>\n",
       "    <tr>\n",
       "      <th>0</th>\n",
       "      <td>2020-01-22</td>\n",
       "      <td>555</td>\n",
       "      <td>17</td>\n",
       "      <td>28</td>\n",
       "      <td>510</td>\n",
       "    </tr>\n",
       "    <tr>\n",
       "      <th>1</th>\n",
       "      <td>2020-01-23</td>\n",
       "      <td>654</td>\n",
       "      <td>18</td>\n",
       "      <td>30</td>\n",
       "      <td>606</td>\n",
       "    </tr>\n",
       "    <tr>\n",
       "      <th>2</th>\n",
       "      <td>2020-01-24</td>\n",
       "      <td>941</td>\n",
       "      <td>26</td>\n",
       "      <td>36</td>\n",
       "      <td>879</td>\n",
       "    </tr>\n",
       "    <tr>\n",
       "      <th>3</th>\n",
       "      <td>2020-01-25</td>\n",
       "      <td>1434</td>\n",
       "      <td>42</td>\n",
       "      <td>39</td>\n",
       "      <td>1353</td>\n",
       "    </tr>\n",
       "    <tr>\n",
       "      <th>4</th>\n",
       "      <td>2020-01-26</td>\n",
       "      <td>2118</td>\n",
       "      <td>56</td>\n",
       "      <td>52</td>\n",
       "      <td>2010</td>\n",
       "    </tr>\n",
       "  </tbody>\n",
       "</table>\n",
       "</div>"
      ],
      "text/plain": [
       "        Date  Confirmed  Deaths  Recovered  Active\n",
       "0 2020-01-22        555      17         28     510\n",
       "1 2020-01-23        654      18         30     606\n",
       "2 2020-01-24        941      26         36     879\n",
       "3 2020-01-25       1434      42         39    1353\n",
       "4 2020-01-26       2118      56         52    2010"
      ]
     },
     "execution_count": 7,
     "metadata": {},
     "output_type": "execute_result"
    }
   ],
   "source": [
    "# Global Trend Over Time\n",
    "# Let’s see how COVID-19 evolved day-by-day across the whole world\n",
    "# summing all countries per day to get global daily totals (time series trend)\n",
    "\n",
    "global_daily = df.groupby('Date')[['Confirmed', 'Deaths', 'Recovered', 'Active']].sum().reset_index()\n",
    "global_daily.head()\n"
   ]
  },
  {
   "cell_type": "code",
   "execution_count": 8,
   "id": "30844cfd",
   "metadata": {},
   "outputs": [
    {
     "data": {
      "text/html": [
       "<div>\n",
       "<style scoped>\n",
       "    .dataframe tbody tr th:only-of-type {\n",
       "        vertical-align: middle;\n",
       "    }\n",
       "\n",
       "    .dataframe tbody tr th {\n",
       "        vertical-align: top;\n",
       "    }\n",
       "\n",
       "    .dataframe thead th {\n",
       "        text-align: right;\n",
       "    }\n",
       "</style>\n",
       "<table border=\"1\" class=\"dataframe\">\n",
       "  <thead>\n",
       "    <tr style=\"text-align: right;\">\n",
       "      <th></th>\n",
       "      <th>Date</th>\n",
       "      <th>Confirmed</th>\n",
       "      <th>Deaths</th>\n",
       "      <th>Recovered</th>\n",
       "      <th>Active</th>\n",
       "    </tr>\n",
       "  </thead>\n",
       "  <tbody>\n",
       "    <tr>\n",
       "      <th>0</th>\n",
       "      <td>2020-01-22</td>\n",
       "      <td>0</td>\n",
       "      <td>0</td>\n",
       "      <td>0</td>\n",
       "      <td>0</td>\n",
       "    </tr>\n",
       "    <tr>\n",
       "      <th>1</th>\n",
       "      <td>2020-01-23</td>\n",
       "      <td>0</td>\n",
       "      <td>0</td>\n",
       "      <td>0</td>\n",
       "      <td>0</td>\n",
       "    </tr>\n",
       "    <tr>\n",
       "      <th>2</th>\n",
       "      <td>2020-01-24</td>\n",
       "      <td>0</td>\n",
       "      <td>0</td>\n",
       "      <td>0</td>\n",
       "      <td>0</td>\n",
       "    </tr>\n",
       "    <tr>\n",
       "      <th>3</th>\n",
       "      <td>2020-01-25</td>\n",
       "      <td>0</td>\n",
       "      <td>0</td>\n",
       "      <td>0</td>\n",
       "      <td>0</td>\n",
       "    </tr>\n",
       "    <tr>\n",
       "      <th>4</th>\n",
       "      <td>2020-01-26</td>\n",
       "      <td>0</td>\n",
       "      <td>0</td>\n",
       "      <td>0</td>\n",
       "      <td>0</td>\n",
       "    </tr>\n",
       "  </tbody>\n",
       "</table>\n",
       "</div>"
      ],
      "text/plain": [
       "        Date  Confirmed  Deaths  Recovered  Active\n",
       "0 2020-01-22          0       0          0       0\n",
       "1 2020-01-23          0       0          0       0\n",
       "2 2020-01-24          0       0          0       0\n",
       "3 2020-01-25          0       0          0       0\n",
       "4 2020-01-26          0       0          0       0"
      ]
     },
     "execution_count": 8,
     "metadata": {},
     "output_type": "execute_result"
    }
   ],
   "source": [
    "# Country-Specific Time Series Example\n",
    "\n",
    "india_df = df[df['Country'] == 'India']\n",
    "india_daily = india_df.groupby('Date')[['Confirmed', 'Deaths', 'Recovered', 'Active']].sum().reset_index()\n",
    "india_daily.head()\n"
   ]
  },
  {
   "cell_type": "markdown",
   "id": "3f24c07e",
   "metadata": {},
   "source": [
    "Visualizing the COVID-19 Trends (Seaborn + Plotly)\n",
    "\n",
    "    Global trend over time (line chart)\n",
    "\n",
    "    Top countries by confirmed cases (bar chart)\n",
    "\n",
    "    Country-specific trend (e.g., India)\n",
    "\n",
    "    Interactive charts using Plotly"
   ]
  },
  {
   "cell_type": "code",
   "execution_count": 9,
   "id": "a4a7cb03",
   "metadata": {},
   "outputs": [
    {
     "data": {
      "image/png": "[encoded data removed]",
      "text/plain": [
       "<Figure size 1400x600 with 1 Axes>"
      ]
     },
     "metadata": {},
     "output_type": "display_data"
    }
   ],
   "source": [
    "# Global Trend Over Time (Line Plot with Seaborn)\n",
    "\n",
    "plt.figure(figsize=(14, 6))\n",
    "sns.lineplot(x='Date', y='Confirmed', data=global_daily, label='Confirmed')\n",
    "sns.lineplot(x='Date', y='Deaths', data=global_daily, label='Deaths')\n",
    "sns.lineplot(x='Date', y='Recovered', data=global_daily, label='Recovered')\n",
    "sns.lineplot(x='Date', y='Active', data=global_daily, label='Active')\n",
    "plt.title('Global COVID-19 Trend Over Time')\n",
    "plt.xlabel('Date')\n",
    "plt.ylabel('Number of Cases')\n",
    "plt.legend()\n",
    "plt.grid(True)\n",
    "plt.show()\n"
   ]
  },
  {
   "cell_type": "code",
   "execution_count": 10,
   "id": "07edae2c",
   "metadata": {},
   "outputs": [
    {
     "data": {
      "application/vnd.plotly.v1+json": {
       "config": {
        "plotlyServerURL": "https://plot.ly"
       },
       "data": [
        {
         "hovertemplate": "Country=%{x}<br>Confirmed=%{y}<extra></extra>",
         "legendgroup": "US",
         "marker": {
          "color": "#636efa",
          "pattern": {
           "shape": ""
          }
         },
         "name": "US",
         "orientation": "v",
         "showlegend": true,
         "textposition": "auto",
         "type": "bar",
         "x": [
          "US"
         ],
         "xaxis": "x",
         "y": {
          "bdata": "03ZBAA==",
          "dtype": "i4"
         },
         "yaxis": "y"
        },
        {
         "hovertemplate": "Country=%{x}<br>Confirmed=%{y}<extra></extra>",
         "legendgroup": "Brazil",
         "marker": {
          "color": "#EF553B",
          "pattern": {
           "shape": ""
          }
         },
         "name": "Brazil",
         "orientation": "v",
         "showlegend": true,
         "textposition": "auto",
         "type": "bar",
         "x": [
          "Brazil"
         ],
         "xaxis": "x",
         "y": {
          "bdata": "h0QlAA==",
          "dtype": "i4"
         },
         "yaxis": "y"
        },
        {
         "hovertemplate": "Country=%{x}<br>Confirmed=%{y}<extra></extra>",
         "legendgroup": "India",
         "marker": {
          "color": "#00cc96",
          "pattern": {
           "shape": ""
          }
         },
         "name": "India",
         "orientation": "v",
         "showlegend": true,
         "textposition": "auto",
         "type": "bar",
         "x": [
          "India"
         ],
         "xaxis": "x",
         "y": {
          "bdata": "iZUWAA==",
          "dtype": "i4"
         },
         "yaxis": "y"
        },
        {
         "hovertemplate": "Country=%{x}<br>Confirmed=%{y}<extra></extra>",
         "legendgroup": "Russia",
         "marker": {
          "color": "#ab63fa",
          "pattern": {
           "shape": ""
          }
         },
         "name": "Russia",
         "orientation": "v",
         "showlegend": true,
         "textposition": "auto",
         "type": "bar",
         "x": [
          "Russia"
         ],
         "xaxis": "x",
         "y": {
          "bdata": "KHYMAA==",
          "dtype": "i4"
         },
         "yaxis": "y"
        },
        {
         "hovertemplate": "Country=%{x}<br>Confirmed=%{y}<extra></extra>",
         "legendgroup": "South Africa",
         "marker": {
          "color": "#FFA15A",
          "pattern": {
           "shape": ""
          }
         },
         "name": "South Africa",
         "orientation": "v",
         "showlegend": true,
         "textposition": "auto",
         "type": "bar",
         "x": [
          "South Africa"
         ],
         "xaxis": "x",
         "y": {
          "bdata": "secGAA==",
          "dtype": "i4"
         },
         "yaxis": "y"
        },
        {
         "hovertemplate": "Country=%{x}<br>Confirmed=%{y}<extra></extra>",
         "legendgroup": "Mexico",
         "marker": {
          "color": "#19d3f3",
          "pattern": {
           "shape": ""
          }
         },
         "name": "Mexico",
         "orientation": "v",
         "showlegend": true,
         "textposition": "auto",
         "type": "bar",
         "x": [
          "Mexico"
         ],
         "xaxis": "x",
         "y": {
          "bdata": "4QgGAA==",
          "dtype": "i4"
         },
         "yaxis": "y"
        },
        {
         "hovertemplate": "Country=%{x}<br>Confirmed=%{y}<extra></extra>",
         "legendgroup": "Peru",
         "marker": {
          "color": "#FF6692",
          "pattern": {
           "shape": ""
          }
         },
         "name": "Peru",
         "orientation": "v",
         "showlegend": true,
         "textposition": "auto",
         "type": "bar",
         "x": [
          "Peru"
         ],
         "xaxis": "x",
         "y": {
          "bdata": "VfIFAA==",
          "dtype": "i4"
         },
         "yaxis": "y"
        },
        {
         "hovertemplate": "Country=%{x}<br>Confirmed=%{y}<extra></extra>",
         "legendgroup": "Chile",
         "marker": {
          "color": "#B6E880",
          "pattern": {
           "shape": ""
          }
         },
         "name": "Chile",
         "orientation": "v",
         "showlegend": true,
         "textposition": "auto",
         "type": "bar",
         "x": [
          "Chile"
         ],
         "xaxis": "x",
         "y": {
          "bdata": "E08FAA==",
          "dtype": "i4"
         },
         "yaxis": "y"
        },
        {
         "hovertemplate": "Country=%{x}<br>Confirmed=%{y}<extra></extra>",
         "legendgroup": "United Kingdom",
         "marker": {
          "color": "#FF97FF",
          "pattern": {
           "shape": ""
          }
         },
         "name": "United Kingdom",
         "orientation": "v",
         "showlegend": true,
         "textposition": "auto",
         "type": "bar",
         "x": [
          "United Kingdom"
         ],
         "xaxis": "x",
         "y": {
          "bdata": "T5QEAA==",
          "dtype": "i4"
         },
         "yaxis": "y"
        },
        {
         "hovertemplate": "Country=%{x}<br>Confirmed=%{y}<extra></extra>",
         "legendgroup": "Iran",
         "marker": {
          "color": "#FECB52",
          "pattern": {
           "shape": ""
          }
         },
         "name": "Iran",
         "orientation": "v",
         "showlegend": true,
         "textposition": "auto",
         "type": "bar",
         "x": [
          "Iran"
         ],
         "xaxis": "x",
         "y": {
          "bdata": "5noEAA==",
          "dtype": "i4"
         },
         "yaxis": "y"
        }
       ],
       "layout": {
        "barmode": "relative",
        "legend": {
         "title": {
          "text": "Country"
         },
         "tracegroupgap": 0
        },
        "template": {
         "data": {
          "bar": [
           {
            "error_x": {
             "color": "#2a3f5f"
            },
            "error_y": {
             "color": "#2a3f5f"
            },
            "marker": {
             "line": {
              "color": "#E5ECF6",
              "width": 0.5
             },
             "pattern": {
              "fillmode": "overlay",
              "size": 10,
              "solidity": 0.2
             }
            },
            "type": "bar"
           }
          ],
          "barpolar": [
           {
            "marker": {
             "line": {
              "color": "#E5ECF6",
              "width": 0.5
             },
             "pattern": {
              "fillmode": "overlay",
              "size": 10,
              "solidity": 0.2
             }
            },
            "type": "barpolar"
           }
          ],
          "carpet": [
           {
            "aaxis": {
             "endlinecolor": "#2a3f5f",
             "gridcolor": "white",
             "linecolor": "white",
             "minorgridcolor": "white",
             "startlinecolor": "#2a3f5f"
            },
            "baxis": {
             "endlinecolor": "#2a3f5f",
             "gridcolor": "white",
             "linecolor": "white",
             "minorgridcolor": "white",
             "startlinecolor": "#2a3f5f"
            },
            "type": "carpet"
           }
          ],
          "choropleth": [
           {
            "colorbar": {
             "outlinewidth": 0,
             "ticks": ""
            },
            "type": "choropleth"
           }
          ],
          "contour": [
           {
            "colorbar": {
             "outlinewidth": 0,
             "ticks": ""
            },
            "colorscale": [
             [
              0,
              "#0d0887"
             ],
             [
              0.1111111111111111,
              "#46039f"
             ],
             [
              0.2222222222222222,
              "#7201a8"
             ],
             [
              0.3333333333333333,
              "#9c179e"
             ],
             [
              0.4444444444444444,
              "#bd3786"
             ],
             [
              0.5555555555555556,
              "#d8576b"
             ],
             [
              0.6666666666666666,
              "#ed7953"
             ],
             [
              0.7777777777777778,
              "#fb9f3a"
             ],
             [
              0.8888888888888888,
              "#fdca26"
             ],
             [
              1,
              "#f0f921"
             ]
            ],
            "type": "contour"
           }
          ],
          "contourcarpet": [
           {
            "colorbar": {
             "outlinewidth": 0,
             "ticks": ""
            },
            "type": "contourcarpet"
           }
          ],
          "heatmap": [
           {
            "colorbar": {
             "outlinewidth": 0,
             "ticks": ""
            },
            "colorscale": [
             [
              0,
              "#0d0887"
             ],
             [
              0.1111111111111111,
              "#46039f"
             ],
             [
              0.2222222222222222,
              "#7201a8"
             ],
             [
              0.3333333333333333,
              "#9c179e"
             ],
             [
              0.4444444444444444,
              "#bd3786"
             ],
             [
              0.5555555555555556,
              "#d8576b"
             ],
             [
              0.6666666666666666,
              "#ed7953"
             ],
             [
              0.7777777777777778,
              "#fb9f3a"
             ],
             [
              0.8888888888888888,
              "#fdca26"
             ],
             [
              1,
              "#f0f921"
             ]
            ],
            "type": "heatmap"
           }
          ],
          "histogram": [
           {
            "marker": {
             "pattern": {
              "fillmode": "overlay",
              "size": 10,
              "solidity": 0.2
             }
            },
            "type": "histogram"
           }
          ],
          "histogram2d": [
           {
            "colorbar": {
             "outlinewidth": 0,
             "ticks": ""
            },
            "colorscale": [
             [
              0,
              "#0d0887"
             ],
             [
              0.1111111111111111,
              "#46039f"
             ],
             [
              0.2222222222222222,
              "#7201a8"
             ],
             [
              0.3333333333333333,
              "#9c179e"
             ],
             [
              0.4444444444444444,
              "#bd3786"
             ],
             [
              0.5555555555555556,
              "#d8576b"
             ],
             [
              0.6666666666666666,
              "#ed7953"
             ],
             [
              0.7777777777777778,
              "#fb9f3a"
             ],
             [
              0.8888888888888888,
              "#fdca26"
             ],
             [
              1,
              "#f0f921"
             ]
            ],
            "type": "histogram2d"
           }
          ],
          "histogram2dcontour": [
           {
            "colorbar": {
             "outlinewidth": 0,
             "ticks": ""
            },
            "colorscale": [
             [
              0,
              "#0d0887"
             ],
             [
              0.1111111111111111,
              "#46039f"
             ],
             [
              0.2222222222222222,
              "#7201a8"
             ],
             [
              0.3333333333333333,
              "#9c179e"
             ],
             [
              0.4444444444444444,
              "#bd3786"
             ],
             [
              0.5555555555555556,
              "#d8576b"
             ],
             [
              0.6666666666666666,
              "#ed7953"
             ],
             [
              0.7777777777777778,
              "#fb9f3a"
             ],
             [
              0.8888888888888888,
              "#fdca26"
             ],
             [
              1,
              "#f0f921"
             ]
            ],
            "type": "histogram2dcontour"
           }
          ],
          "mesh3d": [
           {
            "colorbar": {
             "outlinewidth": 0,
             "ticks": ""
            },
            "type": "mesh3d"
           }
          ],
          "parcoords": [
           {
            "line": {
             "colorbar": {
              "outlinewidth": 0,
              "ticks": ""
             }
            },
            "type": "parcoords"
           }
          ],
          "pie": [
           {
            "automargin": true,
            "type": "pie"
           }
          ],
          "scatter": [
           {
            "fillpattern": {
             "fillmode": "overlay",
             "size": 10,
             "solidity": 0.2
            },
            "type": "scatter"
           }
          ],
          "scatter3d": [
           {
            "line": {
             "colorbar": {
              "outlinewidth": 0,
              "ticks": ""
             }
            },
            "marker": {
             "colorbar": {
              "outlinewidth": 0,
              "ticks": ""
             }
            },
            "type": "scatter3d"
           }
          ],
          "scattercarpet": [
           {
            "marker": {
             "colorbar": {
              "outlinewidth": 0,
              "ticks": ""
             }
            },
            "type": "scattercarpet"
           }
          ],
          "scattergeo": [
           {
            "marker": {
             "colorbar": {
              "outlinewidth": 0,
              "ticks": ""
             }
            },
            "type": "scattergeo"
           }
          ],
          "scattergl": [
           {
            "marker": {
             "colorbar": {
              "outlinewidth": 0,
              "ticks": ""
             }
            },
            "type": "scattergl"
           }
          ],
          "scattermap": [
           {
            "marker": {
             "colorbar": {
              "outlinewidth": 0,
              "ticks": ""
             }
            },
            "type": "scattermap"
           }
          ],
          "scattermapbox": [
           {
            "marker": {
             "colorbar": {
              "outlinewidth": 0,
              "ticks": ""
             }
            },
            "type": "scattermapbox"
           }
          ],
          "scatterpolar": [
           {
            "marker": {
             "colorbar": {
              "outlinewidth": 0,
              "ticks": ""
             }
            },
            "type": "scatterpolar"
           }
          ],
          "scatterpolargl": [
           {
            "marker": {
             "colorbar": {
              "outlinewidth": 0,
              "ticks": ""
             }
            },
            "type": "scatterpolargl"
           }
          ],
          "scatterternary": [
           {
            "marker": {
             "colorbar": {
              "outlinewidth": 0,
              "ticks": ""
             }
            },
            "type": "scatterternary"
           }
          ],
          "surface": [
           {
            "colorbar": {
             "outlinewidth": 0,
             "ticks": ""
            },
            "colorscale": [
             [
              0,
              "#0d0887"
             ],
             [
              0.1111111111111111,
              "#46039f"
             ],
             [
              0.2222222222222222,
              "#7201a8"
             ],
             [
              0.3333333333333333,
              "#9c179e"
             ],
             [
              0.4444444444444444,
              "#bd3786"
             ],
             [
              0.5555555555555556,
              "#d8576b"
             ],
             [
              0.6666666666666666,
              "#ed7953"
             ],
             [
              0.7777777777777778,
              "#fb9f3a"
             ],
             [
              0.8888888888888888,
              "#fdca26"
             ],
             [
              1,
              "#f0f921"
             ]
            ],
            "type": "surface"
           }
          ],
          "table": [
           {
            "cells": {
             "fill": {
              "color": "#EBF0F8"
             },
             "line": {
              "color": "white"
             }
            },
            "header": {
             "fill": {
              "color": "#C8D4E3"
             },
             "line": {
              "color": "white"
             }
            },
            "type": "table"
           }
          ]
         },
         "layout": {
          "annotationdefaults": {
           "arrowcolor": "#2a3f5f",
           "arrowhead": 0,
           "arrowwidth": 1
          },
          "autotypenumbers": "strict",
          "coloraxis": {
           "colorbar": {
            "outlinewidth": 0,
            "ticks": ""
           }
          },
          "colorscale": {
           "diverging": [
            [
             0,
             "#8e0152"
            ],
            [
             0.1,
             "#c51b7d"
            ],
            [
             0.2,
             "#de77ae"
            ],
            [
             0.3,
             "#f1b6da"
            ],
            [
             0.4,
             "#fde0ef"
            ],
            [
             0.5,
             "#f7f7f7"
            ],
            [
             0.6,
             "#e6f5d0"
            ],
            [
             0.7,
             "#b8e186"
            ],
            [
             0.8,
             "#7fbc41"
            ],
            [
             0.9,
             "#4d9221"
            ],
            [
             1,
             "#276419"
            ]
           ],
           "sequential": [
            [
             0,
             "#0d0887"
            ],
            [
             0.1111111111111111,
             "#46039f"
            ],
            [
             0.2222222222222222,
             "#7201a8"
            ],
            [
             0.3333333333333333,
             "#9c179e"
            ],
            [
             0.4444444444444444,
             "#bd3786"
            ],
            [
             0.5555555555555556,
             "#d8576b"
            ],
            [
             0.6666666666666666,
             "#ed7953"
            ],
            [
             0.7777777777777778,
             "#fb9f3a"
            ],
            [
             0.8888888888888888,
             "#fdca26"
            ],
            [
             1,
             "#f0f921"
            ]
           ],
           "sequentialminus": [
            [
             0,
             "#0d0887"
            ],
            [
             0.1111111111111111,
             "#46039f"
            ],
            [
             0.2222222222222222,
             "#7201a8"
            ],
            [
             0.3333333333333333,
             "#9c179e"
            ],
            [
             0.4444444444444444,
             "#bd3786"
            ],
            [
             0.5555555555555556,
             "#d8576b"
            ],
            [
             0.6666666666666666,
             "#ed7953"
            ],
            [
             0.7777777777777778,
             "#fb9f3a"
            ],
            [
             0.8888888888888888,
             "#fdca26"
            ],
            [
             1,
             "#f0f921"
            ]
           ]
          },
          "colorway": [
           "#636efa",
           "#EF553B",
           "#00cc96",
           "#ab63fa",
           "#FFA15A",
           "#19d3f3",
           "#FF6692",
           "#B6E880",
           "#FF97FF",
           "#FECB52"
          ],
          "font": {
           "color": "#2a3f5f"
          },
          "geo": {
           "bgcolor": "white",
           "lakecolor": "white",
           "landcolor": "#E5ECF6",
           "showlakes": true,
           "showland": true,
           "subunitcolor": "white"
          },
          "hoverlabel": {
           "align": "left"
          },
          "hovermode": "closest",
          "mapbox": {
           "style": "light"
          },
          "paper_bgcolor": "white",
          "plot_bgcolor": "#E5ECF6",
          "polar": {
           "angularaxis": {
            "gridcolor": "white",
            "linecolor": "white",
            "ticks": ""
           },
           "bgcolor": "#E5ECF6",
           "radialaxis": {
            "gridcolor": "white",
            "linecolor": "white",
            "ticks": ""
           }
          },
          "scene": {
           "xaxis": {
            "backgroundcolor": "#E5ECF6",
            "gridcolor": "white",
            "gridwidth": 2,
            "linecolor": "white",
            "showbackground": true,
            "ticks": "",
            "zerolinecolor": "white"
           },
           "yaxis": {
            "backgroundcolor": "#E5ECF6",
            "gridcolor": "white",
            "gridwidth": 2,
            "linecolor": "white",
            "showbackground": true,
            "ticks": "",
            "zerolinecolor": "white"
           },
           "zaxis": {
            "backgroundcolor": "#E5ECF6",
            "gridcolor": "white",
            "gridwidth": 2,
            "linecolor": "white",
            "showbackground": true,
            "ticks": "",
            "zerolinecolor": "white"
           }
          },
          "shapedefaults": {
           "line": {
            "color": "#2a3f5f"
           }
          },
          "ternary": {
           "aaxis": {
            "gridcolor": "white",
            "linecolor": "white",
            "ticks": ""
           },
           "baxis": {
            "gridcolor": "white",
            "linecolor": "white",
            "ticks": ""
           },
           "bgcolor": "#E5ECF6",
           "caxis": {
            "gridcolor": "white",
            "linecolor": "white",
            "ticks": ""
           }
          },
          "title": {
           "x": 0.05
          },
          "xaxis": {
           "automargin": true,
           "gridcolor": "white",
           "linecolor": "white",
           "ticks": "",
           "title": {
            "standoff": 15
           },
           "zerolinecolor": "white",
           "zerolinewidth": 2
          },
          "yaxis": {
           "automargin": true,
           "gridcolor": "white",
           "linecolor": "white",
           "ticks": "",
           "title": {
            "standoff": 15
           },
           "zerolinecolor": "white",
           "zerolinewidth": 2
          }
         }
        },
        "title": {
         "text": "Top 10 Countries by Confirmed Cases"
        },
        "xaxis": {
         "anchor": "y",
         "categoryarray": [
          "US",
          "Brazil",
          "India",
          "Russia",
          "South Africa",
          "Mexico",
          "Peru",
          "Chile",
          "United Kingdom",
          "Iran"
         ],
         "categoryorder": "array",
         "domain": [
          0,
          1
         ],
         "title": {
          "text": "Country"
         }
        },
        "yaxis": {
         "anchor": "x",
         "domain": [
          0,
          1
         ],
         "title": {
          "text": "Confirmed"
         }
        }
       }
      }
     },
     "metadata": {},
     "output_type": "display_data"
    }
   ],
   "source": [
    "# top 10 Countries by Confirmed Cases (Bar Chart using Plotly)\n",
    "\n",
    "import plotly.express as px\n",
    "\n",
    "top10 = country_total.head(10).reset_index()\n",
    "\n",
    "fig = px.bar(top10, x='Country', y='Confirmed',\n",
    "             color='Country',\n",
    "             title='Top 10 Countries by Confirmed Cases')\n",
    "fig.show()\n"
   ]
  },
  {
   "cell_type": "code",
   "execution_count": 12,
   "id": "fa2634bd",
   "metadata": {},
   "outputs": [
    {
     "data": {
      "image/png": "[encoded data removed]",
      "text/plain": [
       "<Figure size 1400x600 with 1 Axes>"
      ]
     },
     "metadata": {},
     "output_type": "display_data"
    }
   ],
   "source": [
    "# Country-Specific Trend (Line Plot for India)\n",
    "\n",
    "plt.figure(figsize=(14,6))\n",
    "sns.lineplot(x='Date', y='Confirmed', data=india_daily, label='Confirmed')\n",
    "sns.lineplot(x='Date', y='Deaths', data=india_daily, label='Deaths')\n",
    "sns.lineplot(x='Date', y='Recovered', data=india_daily, label='Recovered')\n",
    "sns.lineplot(x='Date', y='Active', data=india_daily, label='Active')\n",
    "plt.title('COVID-19 Trend in India Over Time')\n",
    "plt.xlabel('Date')\n",
    "plt.ylabel('Number of Cases')\n",
    "plt.legend()\n",
    "plt.grid(True)\n",
    "plt.show()\n"
   ]
  },
  {
   "cell_type": "code",
   "execution_count": 13,
   "id": "5da774c7",
   "metadata": {},
   "outputs": [
    {
     "data": {
      "application/vnd.plotly.v1+json": {
       "config": {
        "plotlyServerURL": "https://plot.ly"
       },
       "data": [
        {
         "hovertemplate": "variable=Confirmed<br>Date=%{x}<br>value=%{y}<extra></extra>",
         "legendgroup": "Confirmed",
         "line": {
          "color": "#636efa",
          "dash": "solid"
         },
         "marker": {
          "symbol": "circle"
         },
         "mode": "lines",
         "name": "Confirmed",
         "orientation": "v",
         "showlegend": true,
         "type": "scatter",
         "x": [
          "2020-01-22T00:00:00.000000000",
          "2020-01-23T00:00:00.000000000",
          "2020-01-24T00:00:00.000000000",
          "2020-01-25T00:00:00.000000000",
          "2020-01-26T00:00:00.000000000",
          "2020-01-27T00:00:00.000000000",
          "2020-01-28T00:00:00.000000000",
          "2020-01-29T00:00:00.000000000",
          "2020-01-30T00:00:00.000000000",
          "2020-01-31T00:00:00.000000000",
          "2020-02-01T00:00:00.000000000",
          "2020-02-02T00:00:00.000000000",
          "2020-02-03T00:00:00.000000000",
          "2020-02-04T00:00:00.000000000",
          "2020-02-05T00:00:00.000000000",
          "2020-02-06T00:00:00.000000000",
          "2020-02-07T00:00:00.000000000",
          "2020-02-08T00:00:00.000000000",
          "2020-02-09T00:00:00.000000000",
          "2020-02-10T00:00:00.000000000",
          "2020-02-11T00:00:00.000000000",
          "2020-02-12T00:00:00.000000000",
          "2020-02-13T00:00:00.000000000",
          "2020-02-14T00:00:00.000000000",
          "2020-02-15T00:00:00.000000000",
          "2020-02-16T00:00:00.000000000",
          "2020-02-17T00:00:00.000000000",
          "2020-02-18T00:00:00.000000000",
          "2020-02-19T00:00:00.000000000",
          "2020-02-20T00:00:00.000000000",
          "2020-02-21T00:00:00.000000000",
          "2020-02-22T00:00:00.000000000",
          "2020-02-23T00:00:00.000000000",
          "2020-02-24T00:00:00.000000000",
          "2020-02-25T00:00:00.000000000",
          "2020-02-26T00:00:00.000000000",
          "2020-02-27T00:00:00.000000000",
          "2020-02-28T00:00:00.000000000",
          "2020-02-29T00:00:00.000000000",
          "2020-03-01T00:00:00.000000000",
          "2020-03-02T00:00:00.000000000",
          "2020-03-03T00:00:00.000000000",
          "2020-03-04T00:00:00.000000000",
          "2020-03-05T00:00:00.000000000",
          "2020-03-06T00:00:00.000000000",
          "2020-03-07T00:00:00.000000000",
          "2020-03-08T00:00:00.000000000",
          "2020-03-09T00:00:00.000000000",
          "2020-03-10T00:00:00.000000000",
          "2020-03-11T00:00:00.000000000",
          "2020-03-12T00:00:00.000000000",
          "2020-03-13T00:00:00.000000000",
          "2020-03-14T00:00:00.000000000",
          "2020-03-15T00:00:00.000000000",
          "2020-03-16T00:00:00.000000000",
          "2020-03-17T00:00:00.000000000",
          "2020-03-18T00:00:00.000000000",
          "2020-03-19T00:00:00.000000000",
          "2020-03-20T00:00:00.000000000",
          "2020-03-21T00:00:00.000000000",
          "2020-03-22T00:00:00.000000000",
          "2020-03-23T00:00:00.000000000",
          "2020-03-24T00:00:00.000000000",
          "2020-03-25T00:00:00.000000000",
          "2020-03-26T00:00:00.000000000",
          "2020-03-27T00:00:00.000000000",
          "2020-03-28T00:00:00.000000000",
          "2020-03-29T00:00:00.000000000",
          "2020-03-30T00:00:00.000000000",
          "2020-03-31T00:00:00.000000000",
          "2020-04-01T00:00:00.000000000",
          "2020-04-02T00:00:00.000000000",
          "2020-04-03T00:00:00.000000000",
          "2020-04-04T00:00:00.000000000",
          "2020-04-05T00:00:00.000000000",
          "2020-04-06T00:00:00.000000000",
          "2020-04-07T00:00:00.000000000",
          "2020-04-08T00:00:00.000000000",
          "2020-04-09T00:00:00.000000000",
          "2020-04-10T00:00:00.000000000",
          "2020-04-11T00:00:00.000000000",
          "2020-04-12T00:00:00.000000000",
          "2020-04-13T00:00:00.000000000",
          "2020-04-14T00:00:00.000000000",
          "2020-04-15T00:00:00.000000000",
          "2020-04-16T00:00:00.000000000",
          "2020-04-17T00:00:00.000000000",
          "2020-04-18T00:00:00.000000000",
          "2020-04-19T00:00:00.000000000",
          "2020-04-20T00:00:00.000000000",
          "2020-04-21T00:00:00.000000000",
          "2020-04-22T00:00:00.000000000",
          "2020-04-23T00:00:00.000000000",
          "2020-04-24T00:00:00.000000000",
          "2020-04-25T00:00:00.000000000",
          "2020-04-26T00:00:00.000000000",
          "2020-04-27T00:00:00.000000000",
          "2020-04-28T00:00:00.000000000",
          "2020-04-29T00:00:00.000000000",
          "2020-04-30T00:00:00.000000000",
          "2020-05-01T00:00:00.000000000",
          "2020-05-02T00:00:00.000000000",
          "2020-05-03T00:00:00.000000000",
          "2020-05-04T00:00:00.000000000",
          "2020-05-05T00:00:00.000000000",
          "2020-05-06T00:00:00.000000000",
          "2020-05-07T00:00:00.000000000",
          "2020-05-08T00:00:00.000000000",
          "2020-05-09T00:00:00.000000000",
          "2020-05-10T00:00:00.000000000",
          "2020-05-11T00:00:00.000000000",
          "2020-05-12T00:00:00.000000000",
          "2020-05-13T00:00:00.000000000",
          "2020-05-14T00:00:00.000000000",
          "2020-05-15T00:00:00.000000000",
          "2020-05-16T00:00:00.000000000",
          "2020-05-17T00:00:00.000000000",
          "2020-05-18T00:00:00.000000000",
          "2020-05-19T00:00:00.000000000",
          "2020-05-20T00:00:00.000000000",
          "2020-05-21T00:00:00.000000000",
          "2020-05-22T00:00:00.000000000",
          "2020-05-23T00:00:00.000000000",
          "2020-05-24T00:00:00.000000000",
          "2020-05-25T00:00:00.000000000",
          "2020-05-26T00:00:00.000000000",
          "2020-05-27T00:00:00.000000000",
          "2020-05-28T00:00:00.000000000",
          "2020-05-29T00:00:00.000000000",
          "2020-05-30T00:00:00.000000000",
          "2020-05-31T00:00:00.000000000",
          "2020-06-01T00:00:00.000000000",
          "2020-06-02T00:00:00.000000000",
          "2020-06-03T00:00:00.000000000",
          "2020-06-04T00:00:00.000000000",
          "2020-06-05T00:00:00.000000000",
          "2020-06-06T00:00:00.000000000",
          "2020-06-07T00:00:00.000000000",
          "2020-06-08T00:00:00.000000000",
          "2020-06-09T00:00:00.000000000",
          "2020-06-10T00:00:00.000000000",
          "2020-06-11T00:00:00.000000000",
          "2020-06-12T00:00:00.000000000",
          "2020-06-13T00:00:00.000000000",
          "2020-06-14T00:00:00.000000000",
          "2020-06-15T00:00:00.000000000",
          "2020-06-16T00:00:00.000000000",
          "2020-06-17T00:00:00.000000000",
          "2020-06-18T00:00:00.000000000",
          "2020-06-19T00:00:00.000000000",
          "2020-06-20T00:00:00.000000000",
          "2020-06-21T00:00:00.000000000",
          "2020-06-22T00:00:00.000000000",
          "2020-06-23T00:00:00.000000000",
          "2020-06-24T00:00:00.000000000",
          "2020-06-25T00:00:00.000000000",
          "2020-06-26T00:00:00.000000000",
          "2020-06-27T00:00:00.000000000",
          "2020-06-28T00:00:00.000000000",
          "2020-06-29T00:00:00.000000000",
          "2020-06-30T00:00:00.000000000",
          "2020-07-01T00:00:00.000000000",
          "2020-07-02T00:00:00.000000000",
          "2020-07-03T00:00:00.000000000",
          "2020-07-04T00:00:00.000000000",
          "2020-07-05T00:00:00.000000000",
          "2020-07-06T00:00:00.000000000",
          "2020-07-07T00:00:00.000000000",
          "2020-07-08T00:00:00.000000000",
          "2020-07-09T00:00:00.000000000",
          "2020-07-10T00:00:00.000000000",
          "2020-07-11T00:00:00.000000000",
          "2020-07-12T00:00:00.000000000",
          "2020-07-13T00:00:00.000000000",
          "2020-07-14T00:00:00.000000000",
          "2020-07-15T00:00:00.000000000",
          "2020-07-16T00:00:00.000000000",
          "2020-07-17T00:00:00.000000000",
          "2020-07-18T00:00:00.000000000",
          "2020-07-19T00:00:00.000000000",
          "2020-07-20T00:00:00.000000000",
          "2020-07-21T00:00:00.000000000",
          "2020-07-22T00:00:00.000000000",
          "2020-07-23T00:00:00.000000000",
          "2020-07-24T00:00:00.000000000",
          "2020-07-25T00:00:00.000000000",
          "2020-07-26T00:00:00.000000000",
          "2020-07-27T00:00:00.000000000"
         ],
         "xaxis": "x",
         "y": {
          "bdata": "KwIAAI4CAACtAwAAmgUAAEYIAABvCwAAyhUAABYYAAAqIAAAxyYAAAYvAACTQQAAr00AAFpdAAD7awAAUngAAB6GAADMkAAAn5wAAImmAACDrgAA4bUAAC7rAACCBAEAnQwBAN8UAQBvHAEAcSMBABYlAQA5JwEArikBAI8wAQDSMQEABjQBAFs3AQAeOwEAckABANNFAQA6TQEAilYBAEBeAQBRaAEATHEBADN8AQCaiwEAYJsBANKqAQAOugEArs0BAJ3rAQATAgIAWDoCALplAgBEkQIAh8oCAGUIAwDnVAMA9cEDAJ01BADPswQAUTYFAAbbBQC5ewYAOkIHACo4CAC6MwkAAzwKALwkCwA7IQwAu0sNAHF1DgBosw8AO/gQAIoyEgCwShMAkGYUANmSFQAY2hYAeSwYAOOCGQCIrxoAlSkcAG85HQCWSh4AU4YfABsAIQDHViIArHcjADeyJACy0CUApPYmAKoiKABffikA+9EqAL8dLACyOi0AEkcuADVtLwArmjAADOExABI1MwAodDQAbKM1AJnMNgAOBTgAtGQ5ALLAOgAvJjwAhXU9AFufPgAsyT8Auw9BAMtaQgAc1kMAeU5FAC3DRgDa9UcAtk5JAF7HSgDSWUwAMPlNAMSaTwANNlEAa6pSAB7+UwCIZ1UAUPhWAGLKWACxo1oAGr5cADpiXgAV1l8AAK5hAFyAYwA1cGUAZG9nAGqCaQDtOGsAPshsAPStbgB9uXAA/9RyAEXNdACP4HYAvOl4ABK9egBt5XwAig9/ACIygQBo9IMA2FuGAPNRiAB1bIoAT/KMAP6OjwDdRZIATzGVAA3plwBrYJoA18ucACFznwB6xaIA0/ClALkLqQDY/6sAf8muAC5XsQDKjrQAJMq3AKdFuwAo0r4AMB/CAMwPxQDXAMgA42HLALDozgAtw9IAo3TWAOYU2gBdW90AF4PgAAYT5ABNW+gA0avsAB328ABW3PQAlPv3AOV4+wA=",
          "dtype": "i4"
         },
         "yaxis": "y"
        },
        {
         "hovertemplate": "variable=Deaths<br>Date=%{x}<br>value=%{y}<extra></extra>",
         "legendgroup": "Deaths",
         "line": {
          "color": "#EF553B",
          "dash": "solid"
         },
         "marker": {
          "symbol": "circle"
         },
         "mode": "lines",
         "name": "Deaths",
         "orientation": "v",
         "showlegend": true,
         "type": "scatter",
         "x": [
          "2020-01-22T00:00:00.000000000",
          "2020-01-23T00:00:00.000000000",
          "2020-01-24T00:00:00.000000000",
          "2020-01-25T00:00:00.000000000",
          "2020-01-26T00:00:00.000000000",
          "2020-01-27T00:00:00.000000000",
          "2020-01-28T00:00:00.000000000",
          "2020-01-29T00:00:00.000000000",
          "2020-01-30T00:00:00.000000000",
          "2020-01-31T00:00:00.000000000",
          "2020-02-01T00:00:00.000000000",
          "2020-02-02T00:00:00.000000000",
          "2020-02-03T00:00:00.000000000",
          "2020-02-04T00:00:00.000000000",
          "2020-02-05T00:00:00.000000000",
          "2020-02-06T00:00:00.000000000",
          "2020-02-07T00:00:00.000000000",
          "2020-02-08T00:00:00.000000000",
          "2020-02-09T00:00:00.000000000",
          "2020-02-10T00:00:00.000000000",
          "2020-02-11T00:00:00.000000000",
          "2020-02-12T00:00:00.000000000",
          "2020-02-13T00:00:00.000000000",
          "2020-02-14T00:00:00.000000000",
          "2020-02-15T00:00:00.000000000",
          "2020-02-16T00:00:00.000000000",
          "2020-02-17T00:00:00.000000000",
          "2020-02-18T00:00:00.000000000",
          "2020-02-19T00:00:00.000000000",
          "2020-02-20T00:00:00.000000000",
          "2020-02-21T00:00:00.000000000",
          "2020-02-22T00:00:00.000000000",
          "2020-02-23T00:00:00.000000000",
          "2020-02-24T00:00:00.000000000",
          "2020-02-25T00:00:00.000000000",
          "2020-02-26T00:00:00.000000000",
          "2020-02-27T00:00:00.000000000",
          "2020-02-28T00:00:00.000000000",
          "2020-02-29T00:00:00.000000000",
          "2020-03-01T00:00:00.000000000",
          "2020-03-02T00:00:00.000000000",
          "2020-03-03T00:00:00.000000000",
          "2020-03-04T00:00:00.000000000",
          "2020-03-05T00:00:00.000000000",
          "2020-03-06T00:00:00.000000000",
          "2020-03-07T00:00:00.000000000",
          "2020-03-08T00:00:00.000000000",
          "2020-03-09T00:00:00.000000000",
          "2020-03-10T00:00:00.000000000",
          "2020-03-11T00:00:00.000000000",
          "2020-03-12T00:00:00.000000000",
          "2020-03-13T00:00:00.000000000",
          "2020-03-14T00:00:00.000000000",
          "2020-03-15T00:00:00.000000000",
          "2020-03-16T00:00:00.000000000",
          "2020-03-17T00:00:00.000000000",
          "2020-03-18T00:00:00.000000000",
          "2020-03-19T00:00:00.000000000",
          "2020-03-20T00:00:00.000000000",
          "2020-03-21T00:00:00.000000000",
          "2020-03-22T00:00:00.000000000",
          "2020-03-23T00:00:00.000000000",
          "2020-03-24T00:00:00.000000000",
          "2020-03-25T00:00:00.000000000",
          "2020-03-26T00:00:00.000000000",
          "2020-03-27T00:00:00.000000000",
          "2020-03-28T00:00:00.000000000",
          "2020-03-29T00:00:00.000000000",
          "2020-03-30T00:00:00.000000000",
          "2020-03-31T00:00:00.000000000",
          "2020-04-01T00:00:00.000000000",
          "2020-04-02T00:00:00.000000000",
          "2020-04-03T00:00:00.000000000",
          "2020-04-04T00:00:00.000000000",
          "2020-04-05T00:00:00.000000000",
          "2020-04-06T00:00:00.000000000",
          "2020-04-07T00:00:00.000000000",
          "2020-04-08T00:00:00.000000000",
          "2020-04-09T00:00:00.000000000",
          "2020-04-10T00:00:00.000000000",
          "2020-04-11T00:00:00.000000000",
          "2020-04-12T00:00:00.000000000",
          "2020-04-13T00:00:00.000000000",
          "2020-04-14T00:00:00.000000000",
          "2020-04-15T00:00:00.000000000",
          "2020-04-16T00:00:00.000000000",
          "2020-04-17T00:00:00.000000000",
          "2020-04-18T00:00:00.000000000",
          "2020-04-19T00:00:00.000000000",
          "2020-04-20T00:00:00.000000000",
          "2020-04-21T00:00:00.000000000",
          "2020-04-22T00:00:00.000000000",
          "2020-04-23T00:00:00.000000000",
          "2020-04-24T00:00:00.000000000",
          "2020-04-25T00:00:00.000000000",
          "2020-04-26T00:00:00.000000000",
          "2020-04-27T00:00:00.000000000",
          "2020-04-28T00:00:00.000000000",
          "2020-04-29T00:00:00.000000000",
          "2020-04-30T00:00:00.000000000",
          "2020-05-01T00:00:00.000000000",
          "2020-05-02T00:00:00.000000000",
          "2020-05-03T00:00:00.000000000",
          "2020-05-04T00:00:00.000000000",
          "2020-05-05T00:00:00.000000000",
          "2020-05-06T00:00:00.000000000",
          "2020-05-07T00:00:00.000000000",
          "2020-05-08T00:00:00.000000000",
          "2020-05-09T00:00:00.000000000",
          "2020-05-10T00:00:00.000000000",
          "2020-05-11T00:00:00.000000000",
          "2020-05-12T00:00:00.000000000",
          "2020-05-13T00:00:00.000000000",
          "2020-05-14T00:00:00.000000000",
          "2020-05-15T00:00:00.000000000",
          "2020-05-16T00:00:00.000000000",
          "2020-05-17T00:00:00.000000000",
          "2020-05-18T00:00:00.000000000",
          "2020-05-19T00:00:00.000000000",
          "2020-05-20T00:00:00.000000000",
          "2020-05-21T00:00:00.000000000",
          "2020-05-22T00:00:00.000000000",
          "2020-05-23T00:00:00.000000000",
          "2020-05-24T00:00:00.000000000",
          "2020-05-25T00:00:00.000000000",
          "2020-05-26T00:00:00.000000000",
          "2020-05-27T00:00:00.000000000",
          "2020-05-28T00:00:00.000000000",
          "2020-05-29T00:00:00.000000000",
          "2020-05-30T00:00:00.000000000",
          "2020-05-31T00:00:00.000000000",
          "2020-06-01T00:00:00.000000000",
          "2020-06-02T00:00:00.000000000",
          "2020-06-03T00:00:00.000000000",
          "2020-06-04T00:00:00.000000000",
          "2020-06-05T00:00:00.000000000",
          "2020-06-06T00:00:00.000000000",
          "2020-06-07T00:00:00.000000000",
          "2020-06-08T00:00:00.000000000",
          "2020-06-09T00:00:00.000000000",
          "2020-06-10T00:00:00.000000000",
          "2020-06-11T00:00:00.000000000",
          "2020-06-12T00:00:00.000000000",
          "2020-06-13T00:00:00.000000000",
          "2020-06-14T00:00:00.000000000",
          "2020-06-15T00:00:00.000000000",
          "2020-06-16T00:00:00.000000000",
          "2020-06-17T00:00:00.000000000",
          "2020-06-18T00:00:00.000000000",
          "2020-06-19T00:00:00.000000000",
          "2020-06-20T00:00:00.000000000",
          "2020-06-21T00:00:00.000000000",
          "2020-06-22T00:00:00.000000000",
          "2020-06-23T00:00:00.000000000",
          "2020-06-24T00:00:00.000000000",
          "2020-06-25T00:00:00.000000000",
          "2020-06-26T00:00:00.000000000",
          "2020-06-27T00:00:00.000000000",
          "2020-06-28T00:00:00.000000000",
          "2020-06-29T00:00:00.000000000",
          "2020-06-30T00:00:00.000000000",
          "2020-07-01T00:00:00.000000000",
          "2020-07-02T00:00:00.000000000",
          "2020-07-03T00:00:00.000000000",
          "2020-07-04T00:00:00.000000000",
          "2020-07-05T00:00:00.000000000",
          "2020-07-06T00:00:00.000000000",
          "2020-07-07T00:00:00.000000000",
          "2020-07-08T00:00:00.000000000",
          "2020-07-09T00:00:00.000000000",
          "2020-07-10T00:00:00.000000000",
          "2020-07-11T00:00:00.000000000",
          "2020-07-12T00:00:00.000000000",
          "2020-07-13T00:00:00.000000000",
          "2020-07-14T00:00:00.000000000",
          "2020-07-15T00:00:00.000000000",
          "2020-07-16T00:00:00.000000000",
          "2020-07-17T00:00:00.000000000",
          "2020-07-18T00:00:00.000000000",
          "2020-07-19T00:00:00.000000000",
          "2020-07-20T00:00:00.000000000",
          "2020-07-21T00:00:00.000000000",
          "2020-07-22T00:00:00.000000000",
          "2020-07-23T00:00:00.000000000",
          "2020-07-24T00:00:00.000000000",
          "2020-07-25T00:00:00.000000000",
          "2020-07-26T00:00:00.000000000",
          "2020-07-27T00:00:00.000000000"
         ],
         "xaxis": "x",
         "y": {
          "bdata": "EQAAABIAAAAaAAAAKgAAADgAAABSAAAAgwAAAIUAAACrAAAA1QAAAAMBAABqAQAAqgEAAOwBAAA0AgAAegIAAM8CAAAmAwAAigMAAPUDAABZBAAAXgQAAFsFAADzBQAAggYAAOoGAABMBwAA2AcAAEsIAADGCAAAyggAAJkJAACjCQAAQwoAAJMKAADPCgAA+goAADMLAAB4CwAArgsAAAcMAABSDAAAsQwAAA4NAAB+DQAA4Q0AANUOAACNDwAApBAAAPwRAAAtEwAAHhUAAL8WAABAGQAA6BsAAAwfAACNIgAA3yYAAKUsAABOMwAA7zkAAGxBAABISgAAIVUAAOBgAACebgAA/XwAAI6KAADSmgAAvq0AAG3DAAAO3AAAb/MAAEAKAQDdHQEApTQBAINTAQDSbQEAn4sBAAeoAQC8vwEAH9YBAJLsAQCEBwIA/CcCAG9EAgApZwIAcIACAEqSAgCNpwIAgsMCAOXdAgCn+AIAuRIDAIMoAwCuNwMA10kDABZjAwCGfQMA0JQDAAmpAwDWvQMAU8sDAHPbAwBi8gMAbwwEAJAhBABQNwQA+UcEAOdVBAB4YwQAI3kEAI+NBAAjogQAgrYEAM3GBADO0wQAqeAEAFnzBABuBgUAIBkFAMQtBQBZPQUAnUkFADdOBQCiXgUA/3IFAFyFBQDilwUAHqgFAGazBQBivwUAOdIFAP3nBQAa/AUAwg4GAOsdBgChKAYAEjcGAExKBgChXgYAR3EGABCCBgCekgYAzJ8GAC2tBgAAyAYAh9wGACzwBgCtCAcARhkHAMEoBwC0NgcAc0sHAABgBwDjeQcAvowHAESeBwBVqgcA3rgHAOrMBwB94AcAffQHAAAICAARGQgAhiYIAFs1CAA2TQgA/WEIAE93CAAOjAgAL58IAKGuCACIvQgApNMIABnpCADA/wgAFxoJABIwCQDPPwkAD1AJAG1oCQC0gwkAoqoJAKLCCQCl1QkAreUJANT6CQA=",
          "dtype": "i4"
         },
         "yaxis": "y"
        },
        {
         "hovertemplate": "variable=Recovered<br>Date=%{x}<br>value=%{y}<extra></extra>",
         "legendgroup": "Recovered",
         "line": {
          "color": "#00cc96",
          "dash": "solid"
         },
         "marker": {
          "symbol": "circle"
         },
         "mode": "lines",
         "name": "Recovered",
         "orientation": "v",
         "showlegend": true,
         "type": "scatter",
         "x": [
          "2020-01-22T00:00:00.000000000",
          "2020-01-23T00:00:00.000000000",
          "2020-01-24T00:00:00.000000000",
          "2020-01-25T00:00:00.000000000",
          "2020-01-26T00:00:00.000000000",
          "2020-01-27T00:00:00.000000000",
          "2020-01-28T00:00:00.000000000",
          "2020-01-29T00:00:00.000000000",
          "2020-01-30T00:00:00.000000000",
          "2020-01-31T00:00:00.000000000",
          "2020-02-01T00:00:00.000000000",
          "2020-02-02T00:00:00.000000000",
          "2020-02-03T00:00:00.000000000",
          "2020-02-04T00:00:00.000000000",
          "2020-02-05T00:00:00.000000000",
          "2020-02-06T00:00:00.000000000",
          "2020-02-07T00:00:00.000000000",
          "2020-02-08T00:00:00.000000000",
          "2020-02-09T00:00:00.000000000",
          "2020-02-10T00:00:00.000000000",
          "2020-02-11T00:00:00.000000000",
          "2020-02-12T00:00:00.000000000",
          "2020-02-13T00:00:00.000000000",
          "2020-02-14T00:00:00.000000000",
          "2020-02-15T00:00:00.000000000",
          "2020-02-16T00:00:00.000000000",
          "2020-02-17T00:00:00.000000000",
          "2020-02-18T00:00:00.000000000",
          "2020-02-19T00:00:00.000000000",
          "2020-02-20T00:00:00.000000000",
          "2020-02-21T00:00:00.000000000",
          "2020-02-22T00:00:00.000000000",
          "2020-02-23T00:00:00.000000000",
          "2020-02-24T00:00:00.000000000",
          "2020-02-25T00:00:00.000000000",
          "2020-02-26T00:00:00.000000000",
          "2020-02-27T00:00:00.000000000",
          "2020-02-28T00:00:00.000000000",
          "2020-02-29T00:00:00.000000000",
          "2020-03-01T00:00:00.000000000",
          "2020-03-02T00:00:00.000000000",
          "2020-03-03T00:00:00.000000000",
          "2020-03-04T00:00:00.000000000",
          "2020-03-05T00:00:00.000000000",
          "2020-03-06T00:00:00.000000000",
          "2020-03-07T00:00:00.000000000",
          "2020-03-08T00:00:00.000000000",
          "2020-03-09T00:00:00.000000000",
          "2020-03-10T00:00:00.000000000",
          "2020-03-11T00:00:00.000000000",
          "2020-03-12T00:00:00.000000000",
          "2020-03-13T00:00:00.000000000",
          "2020-03-14T00:00:00.000000000",
          "2020-03-15T00:00:00.000000000",
          "2020-03-16T00:00:00.000000000",
          "2020-03-17T00:00:00.000000000",
          "2020-03-18T00:00:00.000000000",
          "2020-03-19T00:00:00.000000000",
          "2020-03-20T00:00:00.000000000",
          "2020-03-21T00:00:00.000000000",
          "2020-03-22T00:00:00.000000000",
          "2020-03-23T00:00:00.000000000",
          "2020-03-24T00:00:00.000000000",
          "2020-03-25T00:00:00.000000000",
          "2020-03-26T00:00:00.000000000",
          "2020-03-27T00:00:00.000000000",
          "2020-03-28T00:00:00.000000000",
          "2020-03-29T00:00:00.000000000",
          "2020-03-30T00:00:00.000000000",
          "2020-03-31T00:00:00.000000000",
          "2020-04-01T00:00:00.000000000",
          "2020-04-02T00:00:00.000000000",
          "2020-04-03T00:00:00.000000000",
          "2020-04-04T00:00:00.000000000",
          "2020-04-05T00:00:00.000000000",
          "2020-04-06T00:00:00.000000000",
          "2020-04-07T00:00:00.000000000",
          "2020-04-08T00:00:00.000000000",
          "2020-04-09T00:00:00.000000000",
          "2020-04-10T00:00:00.000000000",
          "2020-04-11T00:00:00.000000000",
          "2020-04-12T00:00:00.000000000",
          "2020-04-13T00:00:00.000000000",
          "2020-04-14T00:00:00.000000000",
          "2020-04-15T00:00:00.000000000",
          "2020-04-16T00:00:00.000000000",
          "2020-04-17T00:00:00.000000000",
          "2020-04-18T00:00:00.000000000",
          "2020-04-19T00:00:00.000000000",
          "2020-04-20T00:00:00.000000000",
          "2020-04-21T00:00:00.000000000",
          "2020-04-22T00:00:00.000000000",
          "2020-04-23T00:00:00.000000000",
          "2020-04-24T00:00:00.000000000",
          "2020-04-25T00:00:00.000000000",
          "2020-04-26T00:00:00.000000000",
          "2020-04-27T00:00:00.000000000",
          "2020-04-28T00:00:00.000000000",
          "2020-04-29T00:00:00.000000000",
          "2020-04-30T00:00:00.000000000",
          "2020-05-01T00:00:00.000000000",
          "2020-05-02T00:00:00.000000000",
          "2020-05-03T00:00:00.000000000",
          "2020-05-04T00:00:00.000000000",
          "2020-05-05T00:00:00.000000000",
          "2020-05-06T00:00:00.000000000",
          "2020-05-07T00:00:00.000000000",
          "2020-05-08T00:00:00.000000000",
          "2020-05-09T00:00:00.000000000",
          "2020-05-10T00:00:00.000000000",
          "2020-05-11T00:00:00.000000000",
          "2020-05-12T00:00:00.000000000",
          "2020-05-13T00:00:00.000000000",
          "2020-05-14T00:00:00.000000000",
          "2020-05-15T00:00:00.000000000",
          "2020-05-16T00:00:00.000000000",
          "2020-05-17T00:00:00.000000000",
          "2020-05-18T00:00:00.000000000",
          "2020-05-19T00:00:00.000000000",
          "2020-05-20T00:00:00.000000000",
          "2020-05-21T00:00:00.000000000",
          "2020-05-22T00:00:00.000000000",
          "2020-05-23T00:00:00.000000000",
          "2020-05-24T00:00:00.000000000",
          "2020-05-25T00:00:00.000000000",
          "2020-05-26T00:00:00.000000000",
          "2020-05-27T00:00:00.000000000",
          "2020-05-28T00:00:00.000000000",
          "2020-05-29T00:00:00.000000000",
          "2020-05-30T00:00:00.000000000",
          "2020-05-31T00:00:00.000000000",
          "2020-06-01T00:00:00.000000000",
          "2020-06-02T00:00:00.000000000",
          "2020-06-03T00:00:00.000000000",
          "2020-06-04T00:00:00.000000000",
          "2020-06-05T00:00:00.000000000",
          "2020-06-06T00:00:00.000000000",
          "2020-06-07T00:00:00.000000000",
          "2020-06-08T00:00:00.000000000",
          "2020-06-09T00:00:00.000000000",
          "2020-06-10T00:00:00.000000000",
          "2020-06-11T00:00:00.000000000",
          "2020-06-12T00:00:00.000000000",
          "2020-06-13T00:00:00.000000000",
          "2020-06-14T00:00:00.000000000",
          "2020-06-15T00:00:00.000000000",
          "2020-06-16T00:00:00.000000000",
          "2020-06-17T00:00:00.000000000",
          "2020-06-18T00:00:00.000000000",
          "2020-06-19T00:00:00.000000000",
          "2020-06-20T00:00:00.000000000",
          "2020-06-21T00:00:00.000000000",
          "2020-06-22T00:00:00.000000000",
          "2020-06-23T00:00:00.000000000",
          "2020-06-24T00:00:00.000000000",
          "2020-06-25T00:00:00.000000000",
          "2020-06-26T00:00:00.000000000",
          "2020-06-27T00:00:00.000000000",
          "2020-06-28T00:00:00.000000000",
          "2020-06-29T00:00:00.000000000",
          "2020-06-30T00:00:00.000000000",
          "2020-07-01T00:00:00.000000000",
          "2020-07-02T00:00:00.000000000",
          "2020-07-03T00:00:00.000000000",
          "2020-07-04T00:00:00.000000000",
          "2020-07-05T00:00:00.000000000",
          "2020-07-06T00:00:00.000000000",
          "2020-07-07T00:00:00.000000000",
          "2020-07-08T00:00:00.000000000",
          "2020-07-09T00:00:00.000000000",
          "2020-07-10T00:00:00.000000000",
          "2020-07-11T00:00:00.000000000",
          "2020-07-12T00:00:00.000000000",
          "2020-07-13T00:00:00.000000000",
          "2020-07-14T00:00:00.000000000",
          "2020-07-15T00:00:00.000000000",
          "2020-07-16T00:00:00.000000000",
          "2020-07-17T00:00:00.000000000",
          "2020-07-18T00:00:00.000000000",
          "2020-07-19T00:00:00.000000000",
          "2020-07-20T00:00:00.000000000",
          "2020-07-21T00:00:00.000000000",
          "2020-07-22T00:00:00.000000000",
          "2020-07-23T00:00:00.000000000",
          "2020-07-24T00:00:00.000000000",
          "2020-07-25T00:00:00.000000000",
          "2020-07-26T00:00:00.000000000",
          "2020-07-27T00:00:00.000000000"
         ],
         "xaxis": "x",
         "y": {
          "bdata": "HAAAAB4AAAAkAAAAJwAAADQAAAA9AAAAawAAAH0AAACNAAAA2wAAABkBAADLAQAAXAIAADUDAAAvBAAAigUAAG8HAACmCQAA8QsAAIIOAABBEQAA8RIAACoXAAC9HQAAxiIAAE8oAACvLgAAfTUAACI8AADZQwAALkYAAFlVAAAgVwAA710AABxoAACVcQAAr3wAAOqJAACqlQAA+KAAADWsAABZtgAA08EAAA3MAAD+0wAAuN0AANTmAADb7QAAUvUAAFn+AACCAwEABwsBAEkUAQCbIQEAoCkBAGA0AQATPgEAeEQBAAVOAQCvXgEA9nYBAMh4AQANngEAVbMBAPzTAQD89QEAYBYCAFU7AgCrdwIA+qcCAPrjAgDkJAMAhF8DALCtAwAN4gMA3CEEACF7BADh6QQA7UgFAHWbBQAf/wUA2EgGAHuwBgCmEAcA7ZwHAHcSCAAvdQgA/dAIAC1JCQBmnAkA6yEKANeTCgAZAwsAAcULAB8uDABxmgwAngENAMh/DQA4IA4AsBkPAMWpDwB6RRAAab8QAB5AEQBLyxEADnoSAB8QEwDxmhMAF2gUAPznFAAMnBUAnygWAFn+FgDwlRcAME4YAKInGQB7xBkAbZAaAABZGwBJPBwA4AAdAN2lHgDSeR8As08gAP1FIQDuGiIADQ8jAGIRJAC/OyUAnUwmAPVzJwDvRigAK9spADYNKwAYHCwAvSYtAMY8LgCuES8AOF8xAIGdMgBSzjMAORo1ABVONgCQmjcA1qs4AP7hOQBwXjsACSk9APpjPgAC1T8Aa5dBABuiQgBtBkQAIJtFAI1dRwCyxkgA/mVKADAETAAAX00Azs1OALOWUABbWlIARbFWAN5cWABHWFsAyildACALXwCJQGEAyKdjABW0ZQAe02cAL71pAJZwawBTk20AEb1vANArcgBBfXQAYOx2AGY5eQDrj3oAOft8ALqjfwBHVIIAOeuEALloiABXwIsAmM6NALd4kAA=",
          "dtype": "i4"
         },
         "yaxis": "y"
        },
        {
         "hovertemplate": "variable=Active<br>Date=%{x}<br>value=%{y}<extra></extra>",
         "legendgroup": "Active",
         "line": {
          "color": "#ab63fa",
          "dash": "solid"
         },
         "marker": {
          "symbol": "circle"
         },
         "mode": "lines",
         "name": "Active",
         "orientation": "v",
         "showlegend": true,
         "type": "scatter",
         "x": [
          "2020-01-22T00:00:00.000000000",
          "2020-01-23T00:00:00.000000000",
          "2020-01-24T00:00:00.000000000",
          "2020-01-25T00:00:00.000000000",
          "2020-01-26T00:00:00.000000000",
          "2020-01-27T00:00:00.000000000",
          "2020-01-28T00:00:00.000000000",
          "2020-01-29T00:00:00.000000000",
          "2020-01-30T00:00:00.000000000",
          "2020-01-31T00:00:00.000000000",
          "2020-02-01T00:00:00.000000000",
          "2020-02-02T00:00:00.000000000",
          "2020-02-03T00:00:00.000000000",
          "2020-02-04T00:00:00.000000000",
          "2020-02-05T00:00:00.000000000",
          "2020-02-06T00:00:00.000000000",
          "2020-02-07T00:00:00.000000000",
          "2020-02-08T00:00:00.000000000",
          "2020-02-09T00:00:00.000000000",
          "2020-02-10T00:00:00.000000000",
          "2020-02-11T00:00:00.000000000",
          "2020-02-12T00:00:00.000000000",
          "2020-02-13T00:00:00.000000000",
          "2020-02-14T00:00:00.000000000",
          "2020-02-15T00:00:00.000000000",
          "2020-02-16T00:00:00.000000000",
          "2020-02-17T00:00:00.000000000",
          "2020-02-18T00:00:00.000000000",
          "2020-02-19T00:00:00.000000000",
          "2020-02-20T00:00:00.000000000",
          "2020-02-21T00:00:00.000000000",
          "2020-02-22T00:00:00.000000000",
          "2020-02-23T00:00:00.000000000",
          "2020-02-24T00:00:00.000000000",
          "2020-02-25T00:00:00.000000000",
          "2020-02-26T00:00:00.000000000",
          "2020-02-27T00:00:00.000000000",
          "2020-02-28T00:00:00.000000000",
          "2020-02-29T00:00:00.000000000",
          "2020-03-01T00:00:00.000000000",
          "2020-03-02T00:00:00.000000000",
          "2020-03-03T00:00:00.000000000",
          "2020-03-04T00:00:00.000000000",
          "2020-03-05T00:00:00.000000000",
          "2020-03-06T00:00:00.000000000",
          "2020-03-07T00:00:00.000000000",
          "2020-03-08T00:00:00.000000000",
          "2020-03-09T00:00:00.000000000",
          "2020-03-10T00:00:00.000000000",
          "2020-03-11T00:00:00.000000000",
          "2020-03-12T00:00:00.000000000",
          "2020-03-13T00:00:00.000000000",
          "2020-03-14T00:00:00.000000000",
          "2020-03-15T00:00:00.000000000",
          "2020-03-16T00:00:00.000000000",
          "2020-03-17T00:00:00.000000000",
          "2020-03-18T00:00:00.000000000",
          "2020-03-19T00:00:00.000000000",
          "2020-03-20T00:00:00.000000000",
          "2020-03-21T00:00:00.000000000",
          "2020-03-22T00:00:00.000000000",
          "2020-03-23T00:00:00.000000000",
          "2020-03-24T00:00:00.000000000",
          "2020-03-25T00:00:00.000000000",
          "2020-03-26T00:00:00.000000000",
          "2020-03-27T00:00:00.000000000",
          "2020-03-28T00:00:00.000000000",
          "2020-03-29T00:00:00.000000000",
          "2020-03-30T00:00:00.000000000",
          "2020-03-31T00:00:00.000000000",
          "2020-04-01T00:00:00.000000000",
          "2020-04-02T00:00:00.000000000",
          "2020-04-03T00:00:00.000000000",
          "2020-04-04T00:00:00.000000000",
          "2020-04-05T00:00:00.000000000",
          "2020-04-06T00:00:00.000000000",
          "2020-04-07T00:00:00.000000000",
          "2020-04-08T00:00:00.000000000",
          "2020-04-09T00:00:00.000000000",
          "2020-04-10T00:00:00.000000000",
          "2020-04-11T00:00:00.000000000",
          "2020-04-12T00:00:00.000000000",
          "2020-04-13T00:00:00.000000000",
          "2020-04-14T00:00:00.000000000",
          "2020-04-15T00:00:00.000000000",
          "2020-04-16T00:00:00.000000000",
          "2020-04-17T00:00:00.000000000",
          "2020-04-18T00:00:00.000000000",
          "2020-04-19T00:00:00.000000000",
          "2020-04-20T00:00:00.000000000",
          "2020-04-21T00:00:00.000000000",
          "2020-04-22T00:00:00.000000000",
          "2020-04-23T00:00:00.000000000",
          "2020-04-24T00:00:00.000000000",
          "2020-04-25T00:00:00.000000000",
          "2020-04-26T00:00:00.000000000",
          "2020-04-27T00:00:00.000000000",
          "2020-04-28T00:00:00.000000000",
          "2020-04-29T00:00:00.000000000",
          "2020-04-30T00:00:00.000000000",
          "2020-05-01T00:00:00.000000000",
          "2020-05-02T00:00:00.000000000",
          "2020-05-03T00:00:00.000000000",
          "2020-05-04T00:00:00.000000000",
          "2020-05-05T00:00:00.000000000",
          "2020-05-06T00:00:00.000000000",
          "2020-05-07T00:00:00.000000000",
          "2020-05-08T00:00:00.000000000",
          "2020-05-09T00:00:00.000000000",
          "2020-05-10T00:00:00.000000000",
          "2020-05-11T00:00:00.000000000",
          "2020-05-12T00:00:00.000000000",
          "2020-05-13T00:00:00.000000000",
          "2020-05-14T00:00:00.000000000",
          "2020-05-15T00:00:00.000000000",
          "2020-05-16T00:00:00.000000000",
          "2020-05-17T00:00:00.000000000",
          "2020-05-18T00:00:00.000000000",
          "2020-05-19T00:00:00.000000000",
          "2020-05-20T00:00:00.000000000",
          "2020-05-21T00:00:00.000000000",
          "2020-05-22T00:00:00.000000000",
          "2020-05-23T00:00:00.000000000",
          "2020-05-24T00:00:00.000000000",
          "2020-05-25T00:00:00.000000000",
          "2020-05-26T00:00:00.000000000",
          "2020-05-27T00:00:00.000000000",
          "2020-05-28T00:00:00.000000000",
          "2020-05-29T00:00:00.000000000",
          "2020-05-30T00:00:00.000000000",
          "2020-05-31T00:00:00.000000000",
          "2020-06-01T00:00:00.000000000",
          "2020-06-02T00:00:00.000000000",
          "2020-06-03T00:00:00.000000000",
          "2020-06-04T00:00:00.000000000",
          "2020-06-05T00:00:00.000000000",
          "2020-06-06T00:00:00.000000000",
          "2020-06-07T00:00:00.000000000",
          "2020-06-08T00:00:00.000000000",
          "2020-06-09T00:00:00.000000000",
          "2020-06-10T00:00:00.000000000",
          "2020-06-11T00:00:00.000000000",
          "2020-06-12T00:00:00.000000000",
          "2020-06-13T00:00:00.000000000",
          "2020-06-14T00:00:00.000000000",
          "2020-06-15T00:00:00.000000000",
          "2020-06-16T00:00:00.000000000",
          "2020-06-17T00:00:00.000000000",
          "2020-06-18T00:00:00.000000000",
          "2020-06-19T00:00:00.000000000",
          "2020-06-20T00:00:00.000000000",
          "2020-06-21T00:00:00.000000000",
          "2020-06-22T00:00:00.000000000",
          "2020-06-23T00:00:00.000000000",
          "2020-06-24T00:00:00.000000000",
          "2020-06-25T00:00:00.000000000",
          "2020-06-26T00:00:00.000000000",
          "2020-06-27T00:00:00.000000000",
          "2020-06-28T00:00:00.000000000",
          "2020-06-29T00:00:00.000000000",
          "2020-06-30T00:00:00.000000000",
          "2020-07-01T00:00:00.000000000",
          "2020-07-02T00:00:00.000000000",
          "2020-07-03T00:00:00.000000000",
          "2020-07-04T00:00:00.000000000",
          "2020-07-05T00:00:00.000000000",
          "2020-07-06T00:00:00.000000000",
          "2020-07-07T00:00:00.000000000",
          "2020-07-08T00:00:00.000000000",
          "2020-07-09T00:00:00.000000000",
          "2020-07-10T00:00:00.000000000",
          "2020-07-11T00:00:00.000000000",
          "2020-07-12T00:00:00.000000000",
          "2020-07-13T00:00:00.000000000",
          "2020-07-14T00:00:00.000000000",
          "2020-07-15T00:00:00.000000000",
          "2020-07-16T00:00:00.000000000",
          "2020-07-17T00:00:00.000000000",
          "2020-07-18T00:00:00.000000000",
          "2020-07-19T00:00:00.000000000",
          "2020-07-20T00:00:00.000000000",
          "2020-07-21T00:00:00.000000000",
          "2020-07-22T00:00:00.000000000",
          "2020-07-23T00:00:00.000000000",
          "2020-07-24T00:00:00.000000000",
          "2020-07-25T00:00:00.000000000",
          "2020-07-26T00:00:00.000000000",
          "2020-07-27T00:00:00.000000000"
         ],
         "xaxis": "x",
         "y": {
          "bdata": "/gEAAF4CAABvAwAASQUAANoHAADgCgAA3BQAABQXAADyHgAAFyUAAOosAABePgAAqUkAADlYAACYZQAATnAAAOB7AAAAhAAAJI0AABKUAADpmAAAkp4AAKnOAADS4AAAVeMAAKblAAB05gAAHOYAAKngAACa2gAAttoAAJ3RAAAP0QAA1MsAAKzEAAC6vgAAybgAALawAAAYrAAA5KkAAASmAACmpQAAyKIAABijAAAeqgAAx68AACm1AACmvAAAuMcAAEjbAABk6wAAMxoBALI6AQBpVgEA/4QBAPm0AQBH9AEAnlYCAPO6AgDSIQMAbIUDANIgBABkkwQAxDkFAE4DBgAgzwYApqgHANleCAC+DgkAA/YJAArOCgB2sgsASKUMAJp6DQDGSg4ADxAPADXEDwBlghAA7VcRAGc/EgCt8BIAngoUAGKcFABsMhUAasEVADWpFgBvehcAPyYYAMDWGAC/jBkANxEaAO6wGgCfghsAQfobAB3HHACTaB0AnfsdAFeKHgBt/B4AjDIfAETiHwDYcCAAsBghAAixIQBhRyIAN94iAAOPIwDuUyQAdcUkAHhhJQCoySUA+W0mAOPOJgAJnicAx0koAL7UKACRXSkAoN0pAAV7KgAbFysAMN8rACPHKwDifiwAGxEtAOppLQD47S0ARHYuAKQzLwAQ0C8AX8kwAN86MQDEzzEAnAAyACmLMgADWDMA5Tk0ALknNQCe/jUA9DE1ACfGNQCKjDYAf0k3ACD9NwBhszgAGp45AOctOgD9vjoA+gk7APzdOwC5Fj0AJ6s9ABeHPgBULz8AvAtAAHHRQABIBUIAkz5DAJlGRAAWV0UAK0VGAIQPRwCiikgAEUtHANumSACAjkgAL3lJALMWSgALAUsAX8BLAEMaTQD8ck4A0sJPAJXwUAD8r1EALtFSAMfTUwAsRlUALG5WAG6rVwCji1kAzzdaAN8GWwBSg1wA9hVeAMLKXgBaRl8AT0dgAFoFYQA=",
          "dtype": "i4"
         },
         "yaxis": "y"
        }
       ],
       "layout": {
        "legend": {
         "title": {
          "text": "variable"
         },
         "tracegroupgap": 0
        },
        "template": {
         "data": {
          "bar": [
           {
            "error_x": {
             "color": "#2a3f5f"
            },
            "error_y": {
             "color": "#2a3f5f"
            },
            "marker": {
             "line": {
              "color": "#E5ECF6",
              "width": 0.5
             },
             "pattern": {
              "fillmode": "overlay",
              "size": 10,
              "solidity": 0.2
             }
            },
            "type": "bar"
           }
          ],
          "barpolar": [
           {
            "marker": {
             "line": {
              "color": "#E5ECF6",
              "width": 0.5
             },
             "pattern": {
              "fillmode": "overlay",
              "size": 10,
              "solidity": 0.2
             }
            },
            "type": "barpolar"
           }
          ],
          "carpet": [
           {
            "aaxis": {
             "endlinecolor": "#2a3f5f",
             "gridcolor": "white",
             "linecolor": "white",
             "minorgridcolor": "white",
             "startlinecolor": "#2a3f5f"
            },
            "baxis": {
             "endlinecolor": "#2a3f5f",
             "gridcolor": "white",
             "linecolor": "white",
             "minorgridcolor": "white",
             "startlinecolor": "#2a3f5f"
            },
            "type": "carpet"
           }
          ],
          "choropleth": [
           {
            "colorbar": {
             "outlinewidth": 0,
             "ticks": ""
            },
            "type": "choropleth"
           }
          ],
          "contour": [
           {
            "colorbar": {
             "outlinewidth": 0,
             "ticks": ""
            },
            "colorscale": [
             [
              0,
              "#0d0887"
             ],
             [
              0.1111111111111111,
              "#46039f"
             ],
             [
              0.2222222222222222,
              "#7201a8"
             ],
             [
              0.3333333333333333,
              "#9c179e"
             ],
             [
              0.4444444444444444,
              "#bd3786"
             ],
             [
              0.5555555555555556,
              "#d8576b"
             ],
             [
              0.6666666666666666,
              "#ed7953"
             ],
             [
              0.7777777777777778,
              "#fb9f3a"
             ],
             [
              0.8888888888888888,
              "#fdca26"
             ],
             [
              1,
              "#f0f921"
             ]
            ],
            "type": "contour"
           }
          ],
          "contourcarpet": [
           {
            "colorbar": {
             "outlinewidth": 0,
             "ticks": ""
            },
            "type": "contourcarpet"
           }
          ],
          "heatmap": [
           {
            "colorbar": {
             "outlinewidth": 0,
             "ticks": ""
            },
            "colorscale": [
             [
              0,
              "#0d0887"
             ],
             [
              0.1111111111111111,
              "#46039f"
             ],
             [
              0.2222222222222222,
              "#7201a8"
             ],
             [
              0.3333333333333333,
              "#9c179e"
             ],
             [
              0.4444444444444444,
              "#bd3786"
             ],
             [
              0.5555555555555556,
              "#d8576b"
             ],
             [
              0.6666666666666666,
              "#ed7953"
             ],
             [
              0.7777777777777778,
              "#fb9f3a"
             ],
             [
              0.8888888888888888,
              "#fdca26"
             ],
             [
              1,
              "#f0f921"
             ]
            ],
            "type": "heatmap"
           }
          ],
          "histogram": [
           {
            "marker": {
             "pattern": {
              "fillmode": "overlay",
              "size": 10,
              "solidity": 0.2
             }
            },
            "type": "histogram"
           }
          ],
          "histogram2d": [
           {
            "colorbar": {
             "outlinewidth": 0,
             "ticks": ""
            },
            "colorscale": [
             [
              0,
              "#0d0887"
             ],
             [
              0.1111111111111111,
              "#46039f"
             ],
             [
              0.2222222222222222,
              "#7201a8"
             ],
             [
              0.3333333333333333,
              "#9c179e"
             ],
             [
              0.4444444444444444,
              "#bd3786"
             ],
             [
              0.5555555555555556,
              "#d8576b"
             ],
             [
              0.6666666666666666,
              "#ed7953"
             ],
             [
              0.7777777777777778,
              "#fb9f3a"
             ],
             [
              0.8888888888888888,
              "#fdca26"
             ],
             [
              1,
              "#f0f921"
             ]
            ],
            "type": "histogram2d"
           }
          ],
          "histogram2dcontour": [
           {
            "colorbar": {
             "outlinewidth": 0,
             "ticks": ""
            },
            "colorscale": [
             [
              0,
              "#0d0887"
             ],
             [
              0.1111111111111111,
              "#46039f"
             ],
             [
              0.2222222222222222,
              "#7201a8"
             ],
             [
              0.3333333333333333,
              "#9c179e"
             ],
             [
              0.4444444444444444,
              "#bd3786"
             ],
             [
              0.5555555555555556,
              "#d8576b"
             ],
             [
              0.6666666666666666,
              "#ed7953"
             ],
             [
              0.7777777777777778,
              "#fb9f3a"
             ],
             [
              0.8888888888888888,
              "#fdca26"
             ],
             [
              1,
              "#f0f921"
             ]
            ],
            "type": "histogram2dcontour"
           }
          ],
          "mesh3d": [
           {
            "colorbar": {
             "outlinewidth": 0,
             "ticks": ""
            },
            "type": "mesh3d"
           }
          ],
          "parcoords": [
           {
            "line": {
             "colorbar": {
              "outlinewidth": 0,
              "ticks": ""
             }
            },
            "type": "parcoords"
           }
          ],
          "pie": [
           {
            "automargin": true,
            "type": "pie"
           }
          ],
          "scatter": [
           {
            "fillpattern": {
             "fillmode": "overlay",
             "size": 10,
             "solidity": 0.2
            },
            "type": "scatter"
           }
          ],
          "scatter3d": [
           {
            "line": {
             "colorbar": {
              "outlinewidth": 0,
              "ticks": ""
             }
            },
            "marker": {
             "colorbar": {
              "outlinewidth": 0,
              "ticks": ""
             }
            },
            "type": "scatter3d"
           }
          ],
          "scattercarpet": [
           {
            "marker": {
             "colorbar": {
              "outlinewidth": 0,
              "ticks": ""
             }
            },
            "type": "scattercarpet"
           }
          ],
          "scattergeo": [
           {
            "marker": {
             "colorbar": {
              "outlinewidth": 0,
              "ticks": ""
             }
            },
            "type": "scattergeo"
           }
          ],
          "scattergl": [
           {
            "marker": {
             "colorbar": {
              "outlinewidth": 0,
              "ticks": ""
             }
            },
            "type": "scattergl"
           }
          ],
          "scattermap": [
           {
            "marker": {
             "colorbar": {
              "outlinewidth": 0,
              "ticks": ""
             }
            },
            "type": "scattermap"
           }
          ],
          "scattermapbox": [
           {
            "marker": {
             "colorbar": {
              "outlinewidth": 0,
              "ticks": ""
             }
            },
            "type": "scattermapbox"
           }
          ],
          "scatterpolar": [
           {
            "marker": {
             "colorbar": {
              "outlinewidth": 0,
              "ticks": ""
             }
            },
            "type": "scatterpolar"
           }
          ],
          "scatterpolargl": [
           {
            "marker": {
             "colorbar": {
              "outlinewidth": 0,
              "ticks": ""
             }
            },
            "type": "scatterpolargl"
           }
          ],
          "scatterternary": [
           {
            "marker": {
             "colorbar": {
              "outlinewidth": 0,
              "ticks": ""
             }
            },
            "type": "scatterternary"
           }
          ],
          "surface": [
           {
            "colorbar": {
             "outlinewidth": 0,
             "ticks": ""
            },
            "colorscale": [
             [
              0,
              "#0d0887"
             ],
             [
              0.1111111111111111,
              "#46039f"
             ],
             [
              0.2222222222222222,
              "#7201a8"
             ],
             [
              0.3333333333333333,
              "#9c179e"
             ],
             [
              0.4444444444444444,
              "#bd3786"
             ],
             [
              0.5555555555555556,
              "#d8576b"
             ],
             [
              0.6666666666666666,
              "#ed7953"
             ],
             [
              0.7777777777777778,
              "#fb9f3a"
             ],
             [
              0.8888888888888888,
              "#fdca26"
             ],
             [
              1,
              "#f0f921"
             ]
            ],
            "type": "surface"
           }
          ],
          "table": [
           {
            "cells": {
             "fill": {
              "color": "#EBF0F8"
             },
             "line": {
              "color": "white"
             }
            },
            "header": {
             "fill": {
              "color": "#C8D4E3"
             },
             "line": {
              "color": "white"
             }
            },
            "type": "table"
           }
          ]
         },
         "layout": {
          "annotationdefaults": {
           "arrowcolor": "#2a3f5f",
           "arrowhead": 0,
           "arrowwidth": 1
          },
          "autotypenumbers": "strict",
          "coloraxis": {
           "colorbar": {
            "outlinewidth": 0,
            "ticks": ""
           }
          },
          "colorscale": {
           "diverging": [
            [
             0,
             "#8e0152"
            ],
            [
             0.1,
             "#c51b7d"
            ],
            [
             0.2,
             "#de77ae"
            ],
            [
             0.3,
             "#f1b6da"
            ],
            [
             0.4,
             "#fde0ef"
            ],
            [
             0.5,
             "#f7f7f7"
            ],
            [
             0.6,
             "#e6f5d0"
            ],
            [
             0.7,
             "#b8e186"
            ],
            [
             0.8,
             "#7fbc41"
            ],
            [
             0.9,
             "#4d9221"
            ],
            [
             1,
             "#276419"
            ]
           ],
           "sequential": [
            [
             0,
             "#0d0887"
            ],
            [
             0.1111111111111111,
             "#46039f"
            ],
            [
             0.2222222222222222,
             "#7201a8"
            ],
            [
             0.3333333333333333,
             "#9c179e"
            ],
            [
             0.4444444444444444,
             "#bd3786"
            ],
            [
             0.5555555555555556,
             "#d8576b"
            ],
            [
             0.6666666666666666,
             "#ed7953"
            ],
            [
             0.7777777777777778,
             "#fb9f3a"
            ],
            [
             0.8888888888888888,
             "#fdca26"
            ],
            [
             1,
             "#f0f921"
            ]
           ],
           "sequentialminus": [
            [
             0,
             "#0d0887"
            ],
            [
             0.1111111111111111,
             "#46039f"
            ],
            [
             0.2222222222222222,
             "#7201a8"
            ],
            [
             0.3333333333333333,
             "#9c179e"
            ],
            [
             0.4444444444444444,
             "#bd3786"
            ],
            [
             0.5555555555555556,
             "#d8576b"
            ],
            [
             0.6666666666666666,
             "#ed7953"
            ],
            [
             0.7777777777777778,
             "#fb9f3a"
            ],
            [
             0.8888888888888888,
             "#fdca26"
            ],
            [
             1,
             "#f0f921"
            ]
           ]
          },
          "colorway": [
           "#636efa",
           "#EF553B",
           "#00cc96",
           "#ab63fa",
           "#FFA15A",
           "#19d3f3",
           "#FF6692",
           "#B6E880",
           "#FF97FF",
           "#FECB52"
          ],
          "font": {
           "color": "#2a3f5f"
          },
          "geo": {
           "bgcolor": "white",
           "lakecolor": "white",
           "landcolor": "#E5ECF6",
           "showlakes": true,
           "showland": true,
           "subunitcolor": "white"
          },
          "hoverlabel": {
           "align": "left"
          },
          "hovermode": "closest",
          "mapbox": {
           "style": "light"
          },
          "paper_bgcolor": "white",
          "plot_bgcolor": "#E5ECF6",
          "polar": {
           "angularaxis": {
            "gridcolor": "white",
            "linecolor": "white",
            "ticks": ""
           },
           "bgcolor": "#E5ECF6",
           "radialaxis": {
            "gridcolor": "white",
            "linecolor": "white",
            "ticks": ""
           }
          },
          "scene": {
           "xaxis": {
            "backgroundcolor": "#E5ECF6",
            "gridcolor": "white",
            "gridwidth": 2,
            "linecolor": "white",
            "showbackground": true,
            "ticks": "",
            "zerolinecolor": "white"
           },
           "yaxis": {
            "backgroundcolor": "#E5ECF6",
            "gridcolor": "white",
            "gridwidth": 2,
            "linecolor": "white",
            "showbackground": true,
            "ticks": "",
            "zerolinecolor": "white"
           },
           "zaxis": {
            "backgroundcolor": "#E5ECF6",
            "gridcolor": "white",
            "gridwidth": 2,
            "linecolor": "white",
            "showbackground": true,
            "ticks": "",
            "zerolinecolor": "white"
           }
          },
          "shapedefaults": {
           "line": {
            "color": "#2a3f5f"
           }
          },
          "ternary": {
           "aaxis": {
            "gridcolor": "white",
            "linecolor": "white",
            "ticks": ""
           },
           "baxis": {
            "gridcolor": "white",
            "linecolor": "white",
            "ticks": ""
           },
           "bgcolor": "#E5ECF6",
           "caxis": {
            "gridcolor": "white",
            "linecolor": "white",
            "ticks": ""
           }
          },
          "title": {
           "x": 0.05
          },
          "xaxis": {
           "automargin": true,
           "gridcolor": "white",
           "linecolor": "white",
           "ticks": "",
           "title": {
            "standoff": 15
           },
           "zerolinecolor": "white",
           "zerolinewidth": 2
          },
          "yaxis": {
           "automargin": true,
           "gridcolor": "white",
           "linecolor": "white",
           "ticks": "",
           "title": {
            "standoff": 15
           },
           "zerolinecolor": "white",
           "zerolinewidth": 2
          }
         }
        },
        "title": {
         "text": "Global COVID-19 Timeline (Interactive)"
        },
        "xaxis": {
         "anchor": "y",
         "domain": [
          0,
          1
         ],
         "title": {
          "text": "Date"
         }
        },
        "yaxis": {
         "anchor": "x",
         "domain": [
          0,
          1
         ],
         "title": {
          "text": "value"
         }
        }
       }
      }
     },
     "metadata": {},
     "output_type": "display_data"
    }
   ],
   "source": [
    "# Interactive Time Series (Optional Bonus with Plotly)\n",
    "\n",
    "fig = px.line(global_daily, x='Date', y=['Confirmed', 'Deaths', 'Recovered', 'Active'],\n",
    "              title='Global COVID-19 Timeline (Interactive)')\n",
    "fig.show()\n"
   ]
  },
  {
   "cell_type": "markdown",
   "id": "46ad7af7",
   "metadata": {},
   "source": [
    "Add Key Metrics + Generate Insights\n",
    "\n",
    "    To Calculate:\n",
    "        Death Rate\n",
    "        Recovery Rate\n",
    "\n",
    "And observe trends using these rates"
   ]
  },
  {
   "cell_type": "code",
   "execution_count": null,
   "id": "a8748358",
   "metadata": {},
   "outputs": [],
   "source": [
    "# Adding Death Rate & Recovery Rate Columns\n",
    "\n",
    "df['DeathRate'] = (df['Deaths'] / df['Confirmed']) * 100\n",
    "df['RecoveryRate'] = (df['Recovered'] / df['Confirmed']) * 100\n",
    "\n",
    "df['DeathRate'] = df['DeathRate'].round(2)\n",
    "df['RecoveryRate'] = df['RecoveryRate'].round(2)"
   ]
  },
  {
   "cell_type": "code",
   "execution_count": 20,
   "id": "46832621",
   "metadata": {},
   "outputs": [
    {
     "data": {
      "text/html": [
       "<div>\n",
       "<style scoped>\n",
       "    .dataframe tbody tr th:only-of-type {\n",
       "        vertical-align: middle;\n",
       "    }\n",
       "\n",
       "    .dataframe tbody tr th {\n",
       "        vertical-align: top;\n",
       "    }\n",
       "\n",
       "    .dataframe thead th {\n",
       "        text-align: right;\n",
       "    }\n",
       "</style>\n",
       "<table border=\"1\" class=\"dataframe\">\n",
       "  <thead>\n",
       "    <tr style=\"text-align: right;\">\n",
       "      <th></th>\n",
       "      <th>Confirmed</th>\n",
       "      <th>Deaths</th>\n",
       "      <th>Recovered</th>\n",
       "      <th>DeathRate</th>\n",
       "      <th>RecoveryRate</th>\n",
       "    </tr>\n",
       "    <tr>\n",
       "      <th>Country</th>\n",
       "      <th></th>\n",
       "      <th></th>\n",
       "      <th></th>\n",
       "      <th></th>\n",
       "      <th></th>\n",
       "    </tr>\n",
       "  </thead>\n",
       "  <tbody>\n",
       "    <tr>\n",
       "      <th>US</th>\n",
       "      <td>4290259</td>\n",
       "      <td>148011</td>\n",
       "      <td>1325804</td>\n",
       "      <td>3.449932</td>\n",
       "      <td>30.902656</td>\n",
       "    </tr>\n",
       "    <tr>\n",
       "      <th>Brazil</th>\n",
       "      <td>2442375</td>\n",
       "      <td>87618</td>\n",
       "      <td>1846641</td>\n",
       "      <td>3.587410</td>\n",
       "      <td>75.608414</td>\n",
       "    </tr>\n",
       "    <tr>\n",
       "      <th>India</th>\n",
       "      <td>1480073</td>\n",
       "      <td>33408</td>\n",
       "      <td>951166</td>\n",
       "      <td>2.257186</td>\n",
       "      <td>64.264803</td>\n",
       "    </tr>\n",
       "    <tr>\n",
       "      <th>Russia</th>\n",
       "      <td>816680</td>\n",
       "      <td>13334</td>\n",
       "      <td>602249</td>\n",
       "      <td>1.632708</td>\n",
       "      <td>73.743572</td>\n",
       "    </tr>\n",
       "    <tr>\n",
       "      <th>South Africa</th>\n",
       "      <td>452529</td>\n",
       "      <td>7067</td>\n",
       "      <td>274925</td>\n",
       "      <td>1.561668</td>\n",
       "      <td>60.753013</td>\n",
       "    </tr>\n",
       "    <tr>\n",
       "      <th>Mexico</th>\n",
       "      <td>395489</td>\n",
       "      <td>44022</td>\n",
       "      <td>303810</td>\n",
       "      <td>11.131030</td>\n",
       "      <td>76.818824</td>\n",
       "    </tr>\n",
       "    <tr>\n",
       "      <th>Peru</th>\n",
       "      <td>389717</td>\n",
       "      <td>18418</td>\n",
       "      <td>272547</td>\n",
       "      <td>4.725993</td>\n",
       "      <td>69.934594</td>\n",
       "    </tr>\n",
       "    <tr>\n",
       "      <th>Chile</th>\n",
       "      <td>347923</td>\n",
       "      <td>9187</td>\n",
       "      <td>319954</td>\n",
       "      <td>2.640527</td>\n",
       "      <td>91.961152</td>\n",
       "    </tr>\n",
       "    <tr>\n",
       "      <th>United Kingdom</th>\n",
       "      <td>301708</td>\n",
       "      <td>45844</td>\n",
       "      <td>1437</td>\n",
       "      <td>15.194824</td>\n",
       "      <td>0.476288</td>\n",
       "    </tr>\n",
       "    <tr>\n",
       "      <th>Iran</th>\n",
       "      <td>293606</td>\n",
       "      <td>15912</td>\n",
       "      <td>255144</td>\n",
       "      <td>5.419508</td>\n",
       "      <td>86.900131</td>\n",
       "    </tr>\n",
       "  </tbody>\n",
       "</table>\n",
       "</div>"
      ],
      "text/plain": [
       "                Confirmed  Deaths  Recovered  DeathRate  RecoveryRate\n",
       "Country                                                              \n",
       "US                4290259  148011    1325804   3.449932     30.902656\n",
       "Brazil            2442375   87618    1846641   3.587410     75.608414\n",
       "India             1480073   33408     951166   2.257186     64.264803\n",
       "Russia             816680   13334     602249   1.632708     73.743572\n",
       "South Africa       452529    7067     274925   1.561668     60.753013\n",
       "Mexico             395489   44022     303810  11.131030     76.818824\n",
       "Peru               389717   18418     272547   4.725993     69.934594\n",
       "Chile              347923    9187     319954   2.640527     91.961152\n",
       "United Kingdom     301708   45844       1437  15.194824      0.476288\n",
       "Iran               293606   15912     255144   5.419508     86.900131"
      ]
     },
     "execution_count": 20,
     "metadata": {},
     "output_type": "execute_result"
    }
   ],
   "source": [
    "# Snapshot: Latest Country-Wise Metrics\n",
    "\n",
    "latest_df = df[df['Date'] == df['Date'].max()]  # Filter for the latest date\n",
    "\n",
    "country_rates = latest_df.groupby('Country')[['Confirmed', 'Deaths', 'Recovered']].sum()\n",
    "country_rates['DeathRate'] = (country_rates['Deaths'] / country_rates['Confirmed']) * 100\n",
    "country_rates['RecoveryRate'] = (country_rates['Recovered'] / country_rates['Confirmed']) * 100\n",
    "country_rates = country_rates.sort_values(by='Confirmed', ascending=False)\n",
    "country_rates.head(10)\n"
   ]
  },
  {
   "cell_type": "code",
   "execution_count": 21,
   "id": "84af310f",
   "metadata": {},
   "outputs": [
    {
     "data": {
      "application/vnd.plotly.v1+json": {
       "config": {
        "plotlyServerURL": "https://plot.ly"
       },
       "data": [
        {
         "alignmentgroup": "True",
         "hovertemplate": "variable=DeathRate<br>Country=%{x}<br>value=%{y}<extra></extra>",
         "legendgroup": "DeathRate",
         "marker": {
          "color": "#636efa",
          "pattern": {
           "shape": ""
          }
         },
         "name": "DeathRate",
         "offsetgroup": "DeathRate",
         "orientation": "v",
         "showlegend": true,
         "textposition": "auto",
         "type": "bar",
         "x": [
          "US",
          "Brazil",
          "India",
          "Russia",
          "South Africa",
          "Mexico",
          "Peru",
          "Chile",
          "United Kingdom",
          "Iran"
         ],
         "xaxis": "x",
         "y": {
          "bdata": "BmAYunWZC0CxPzLoA7MMQNPjpIO3DgJAZCaKdpIf+j/rLxNzl/z4P+91s2MWQyZAYcOI1WrnEkD4TpGBzB8FQF4aLf2/Yy5AnKdEcpOtFUA=",
          "dtype": "f8"
         },
         "yaxis": "y"
        },
        {
         "alignmentgroup": "True",
         "hovertemplate": "variable=RecoveryRate<br>Country=%{x}<br>value=%{y}<extra></extra>",
         "legendgroup": "RecoveryRate",
         "marker": {
          "color": "#EF553B",
          "pattern": {
           "shape": ""
          }
         },
         "name": "RecoveryRate",
         "offsetgroup": "RecoveryRate",
         "orientation": "v",
         "showlegend": true,
         "textposition": "auto",
         "type": "bar",
         "x": [
          "US",
          "Brazil",
          "India",
          "Russia",
          "South Africa",
          "Mexico",
          "Peru",
          "Chile",
          "United Kingdom",
          "Iran"
         ],
         "xaxis": "x",
         "y": {
          "bdata": "ZsxlfhTnPkBPIQdB8OZSQPCg7ojyEFBAw64OrZZvUkA0zcy2YmBOQMuw/51nNFNAyCiGYdB7UUBFcQmFg/1WQJVFGQ6Ce94/fwsFwZu5VUA=",
          "dtype": "f8"
         },
         "yaxis": "y"
        }
       ],
       "layout": {
        "barmode": "group",
        "legend": {
         "title": {
          "text": "variable"
         },
         "tracegroupgap": 0
        },
        "template": {
         "data": {
          "bar": [
           {
            "error_x": {
             "color": "#2a3f5f"
            },
            "error_y": {
             "color": "#2a3f5f"
            },
            "marker": {
             "line": {
              "color": "#E5ECF6",
              "width": 0.5
             },
             "pattern": {
              "fillmode": "overlay",
              "size": 10,
              "solidity": 0.2
             }
            },
            "type": "bar"
           }
          ],
          "barpolar": [
           {
            "marker": {
             "line": {
              "color": "#E5ECF6",
              "width": 0.5
             },
             "pattern": {
              "fillmode": "overlay",
              "size": 10,
              "solidity": 0.2
             }
            },
            "type": "barpolar"
           }
          ],
          "carpet": [
           {
            "aaxis": {
             "endlinecolor": "#2a3f5f",
             "gridcolor": "white",
             "linecolor": "white",
             "minorgridcolor": "white",
             "startlinecolor": "#2a3f5f"
            },
            "baxis": {
             "endlinecolor": "#2a3f5f",
             "gridcolor": "white",
             "linecolor": "white",
             "minorgridcolor": "white",
             "startlinecolor": "#2a3f5f"
            },
            "type": "carpet"
           }
          ],
          "choropleth": [
           {
            "colorbar": {
             "outlinewidth": 0,
             "ticks": ""
            },
            "type": "choropleth"
           }
          ],
          "contour": [
           {
            "colorbar": {
             "outlinewidth": 0,
             "ticks": ""
            },
            "colorscale": [
             [
              0,
              "#0d0887"
             ],
             [
              0.1111111111111111,
              "#46039f"
             ],
             [
              0.2222222222222222,
              "#7201a8"
             ],
             [
              0.3333333333333333,
              "#9c179e"
             ],
             [
              0.4444444444444444,
              "#bd3786"
             ],
             [
              0.5555555555555556,
              "#d8576b"
             ],
             [
              0.6666666666666666,
              "#ed7953"
             ],
             [
              0.7777777777777778,
              "#fb9f3a"
             ],
             [
              0.8888888888888888,
              "#fdca26"
             ],
             [
              1,
              "#f0f921"
             ]
            ],
            "type": "contour"
           }
          ],
          "contourcarpet": [
           {
            "colorbar": {
             "outlinewidth": 0,
             "ticks": ""
            },
            "type": "contourcarpet"
           }
          ],
          "heatmap": [
           {
            "colorbar": {
             "outlinewidth": 0,
             "ticks": ""
            },
            "colorscale": [
             [
              0,
              "#0d0887"
             ],
             [
              0.1111111111111111,
              "#46039f"
             ],
             [
              0.2222222222222222,
              "#7201a8"
             ],
             [
              0.3333333333333333,
              "#9c179e"
             ],
             [
              0.4444444444444444,
              "#bd3786"
             ],
             [
              0.5555555555555556,
              "#d8576b"
             ],
             [
              0.6666666666666666,
              "#ed7953"
             ],
             [
              0.7777777777777778,
              "#fb9f3a"
             ],
             [
              0.8888888888888888,
              "#fdca26"
             ],
             [
              1,
              "#f0f921"
             ]
            ],
            "type": "heatmap"
           }
          ],
          "histogram": [
           {
            "marker": {
             "pattern": {
              "fillmode": "overlay",
              "size": 10,
              "solidity": 0.2
             }
            },
            "type": "histogram"
           }
          ],
          "histogram2d": [
           {
            "colorbar": {
             "outlinewidth": 0,
             "ticks": ""
            },
            "colorscale": [
             [
              0,
              "#0d0887"
             ],
             [
              0.1111111111111111,
              "#46039f"
             ],
             [
              0.2222222222222222,
              "#7201a8"
             ],
             [
              0.3333333333333333,
              "#9c179e"
             ],
             [
              0.4444444444444444,
              "#bd3786"
             ],
             [
              0.5555555555555556,
              "#d8576b"
             ],
             [
              0.6666666666666666,
              "#ed7953"
             ],
             [
              0.7777777777777778,
              "#fb9f3a"
             ],
             [
              0.8888888888888888,
              "#fdca26"
             ],
             [
              1,
              "#f0f921"
             ]
            ],
            "type": "histogram2d"
           }
          ],
          "histogram2dcontour": [
           {
            "colorbar": {
             "outlinewidth": 0,
             "ticks": ""
            },
            "colorscale": [
             [
              0,
              "#0d0887"
             ],
             [
              0.1111111111111111,
              "#46039f"
             ],
             [
              0.2222222222222222,
              "#7201a8"
             ],
             [
              0.3333333333333333,
              "#9c179e"
             ],
             [
              0.4444444444444444,
              "#bd3786"
             ],
             [
              0.5555555555555556,
              "#d8576b"
             ],
             [
              0.6666666666666666,
              "#ed7953"
             ],
             [
              0.7777777777777778,
              "#fb9f3a"
             ],
             [
              0.8888888888888888,
              "#fdca26"
             ],
             [
              1,
              "#f0f921"
             ]
            ],
            "type": "histogram2dcontour"
           }
          ],
          "mesh3d": [
           {
            "colorbar": {
             "outlinewidth": 0,
             "ticks": ""
            },
            "type": "mesh3d"
           }
          ],
          "parcoords": [
           {
            "line": {
             "colorbar": {
              "outlinewidth": 0,
              "ticks": ""
             }
            },
            "type": "parcoords"
           }
          ],
          "pie": [
           {
            "automargin": true,
            "type": "pie"
           }
          ],
          "scatter": [
           {
            "fillpattern": {
             "fillmode": "overlay",
             "size": 10,
             "solidity": 0.2
            },
            "type": "scatter"
           }
          ],
          "scatter3d": [
           {
            "line": {
             "colorbar": {
              "outlinewidth": 0,
              "ticks": ""
             }
            },
            "marker": {
             "colorbar": {
              "outlinewidth": 0,
              "ticks": ""
             }
            },
            "type": "scatter3d"
           }
          ],
          "scattercarpet": [
           {
            "marker": {
             "colorbar": {
              "outlinewidth": 0,
              "ticks": ""
             }
            },
            "type": "scattercarpet"
           }
          ],
          "scattergeo": [
           {
            "marker": {
             "colorbar": {
              "outlinewidth": 0,
              "ticks": ""
             }
            },
            "type": "scattergeo"
           }
          ],
          "scattergl": [
           {
            "marker": {
             "colorbar": {
              "outlinewidth": 0,
              "ticks": ""
             }
            },
            "type": "scattergl"
           }
          ],
          "scattermap": [
           {
            "marker": {
             "colorbar": {
              "outlinewidth": 0,
              "ticks": ""
             }
            },
            "type": "scattermap"
           }
          ],
          "scattermapbox": [
           {
            "marker": {
             "colorbar": {
              "outlinewidth": 0,
              "ticks": ""
             }
            },
            "type": "scattermapbox"
           }
          ],
          "scatterpolar": [
           {
            "marker": {
             "colorbar": {
              "outlinewidth": 0,
              "ticks": ""
             }
            },
            "type": "scatterpolar"
           }
          ],
          "scatterpolargl": [
           {
            "marker": {
             "colorbar": {
              "outlinewidth": 0,
              "ticks": ""
             }
            },
            "type": "scatterpolargl"
           }
          ],
          "scatterternary": [
           {
            "marker": {
             "colorbar": {
              "outlinewidth": 0,
              "ticks": ""
             }
            },
            "type": "scatterternary"
           }
          ],
          "surface": [
           {
            "colorbar": {
             "outlinewidth": 0,
             "ticks": ""
            },
            "colorscale": [
             [
              0,
              "#0d0887"
             ],
             [
              0.1111111111111111,
              "#46039f"
             ],
             [
              0.2222222222222222,
              "#7201a8"
             ],
             [
              0.3333333333333333,
              "#9c179e"
             ],
             [
              0.4444444444444444,
              "#bd3786"
             ],
             [
              0.5555555555555556,
              "#d8576b"
             ],
             [
              0.6666666666666666,
              "#ed7953"
             ],
             [
              0.7777777777777778,
              "#fb9f3a"
             ],
             [
              0.8888888888888888,
              "#fdca26"
             ],
             [
              1,
              "#f0f921"
             ]
            ],
            "type": "surface"
           }
          ],
          "table": [
           {
            "cells": {
             "fill": {
              "color": "#EBF0F8"
             },
             "line": {
              "color": "white"
             }
            },
            "header": {
             "fill": {
              "color": "#C8D4E3"
             },
             "line": {
              "color": "white"
             }
            },
            "type": "table"
           }
          ]
         },
         "layout": {
          "annotationdefaults": {
           "arrowcolor": "#2a3f5f",
           "arrowhead": 0,
           "arrowwidth": 1
          },
          "autotypenumbers": "strict",
          "coloraxis": {
           "colorbar": {
            "outlinewidth": 0,
            "ticks": ""
           }
          },
          "colorscale": {
           "diverging": [
            [
             0,
             "#8e0152"
            ],
            [
             0.1,
             "#c51b7d"
            ],
            [
             0.2,
             "#de77ae"
            ],
            [
             0.3,
             "#f1b6da"
            ],
            [
             0.4,
             "#fde0ef"
            ],
            [
             0.5,
             "#f7f7f7"
            ],
            [
             0.6,
             "#e6f5d0"
            ],
            [
             0.7,
             "#b8e186"
            ],
            [
             0.8,
             "#7fbc41"
            ],
            [
             0.9,
             "#4d9221"
            ],
            [
             1,
             "#276419"
            ]
           ],
           "sequential": [
            [
             0,
             "#0d0887"
            ],
            [
             0.1111111111111111,
             "#46039f"
            ],
            [
             0.2222222222222222,
             "#7201a8"
            ],
            [
             0.3333333333333333,
             "#9c179e"
            ],
            [
             0.4444444444444444,
             "#bd3786"
            ],
            [
             0.5555555555555556,
             "#d8576b"
            ],
            [
             0.6666666666666666,
             "#ed7953"
            ],
            [
             0.7777777777777778,
             "#fb9f3a"
            ],
            [
             0.8888888888888888,
             "#fdca26"
            ],
            [
             1,
             "#f0f921"
            ]
           ],
           "sequentialminus": [
            [
             0,
             "#0d0887"
            ],
            [
             0.1111111111111111,
             "#46039f"
            ],
            [
             0.2222222222222222,
             "#7201a8"
            ],
            [
             0.3333333333333333,
             "#9c179e"
            ],
            [
             0.4444444444444444,
             "#bd3786"
            ],
            [
             0.5555555555555556,
             "#d8576b"
            ],
            [
             0.6666666666666666,
             "#ed7953"
            ],
            [
             0.7777777777777778,
             "#fb9f3a"
            ],
            [
             0.8888888888888888,
             "#fdca26"
            ],
            [
             1,
             "#f0f921"
            ]
           ]
          },
          "colorway": [
           "#636efa",
           "#EF553B",
           "#00cc96",
           "#ab63fa",
           "#FFA15A",
           "#19d3f3",
           "#FF6692",
           "#B6E880",
           "#FF97FF",
           "#FECB52"
          ],
          "font": {
           "color": "#2a3f5f"
          },
          "geo": {
           "bgcolor": "white",
           "lakecolor": "white",
           "landcolor": "#E5ECF6",
           "showlakes": true,
           "showland": true,
           "subunitcolor": "white"
          },
          "hoverlabel": {
           "align": "left"
          },
          "hovermode": "closest",
          "mapbox": {
           "style": "light"
          },
          "paper_bgcolor": "white",
          "plot_bgcolor": "#E5ECF6",
          "polar": {
           "angularaxis": {
            "gridcolor": "white",
            "linecolor": "white",
            "ticks": ""
           },
           "bgcolor": "#E5ECF6",
           "radialaxis": {
            "gridcolor": "white",
            "linecolor": "white",
            "ticks": ""
           }
          },
          "scene": {
           "xaxis": {
            "backgroundcolor": "#E5ECF6",
            "gridcolor": "white",
            "gridwidth": 2,
            "linecolor": "white",
            "showbackground": true,
            "ticks": "",
            "zerolinecolor": "white"
           },
           "yaxis": {
            "backgroundcolor": "#E5ECF6",
            "gridcolor": "white",
            "gridwidth": 2,
            "linecolor": "white",
            "showbackground": true,
            "ticks": "",
            "zerolinecolor": "white"
           },
           "zaxis": {
            "backgroundcolor": "#E5ECF6",
            "gridcolor": "white",
            "gridwidth": 2,
            "linecolor": "white",
            "showbackground": true,
            "ticks": "",
            "zerolinecolor": "white"
           }
          },
          "shapedefaults": {
           "line": {
            "color": "#2a3f5f"
           }
          },
          "ternary": {
           "aaxis": {
            "gridcolor": "white",
            "linecolor": "white",
            "ticks": ""
           },
           "baxis": {
            "gridcolor": "white",
            "linecolor": "white",
            "ticks": ""
           },
           "bgcolor": "#E5ECF6",
           "caxis": {
            "gridcolor": "white",
            "linecolor": "white",
            "ticks": ""
           }
          },
          "title": {
           "x": 0.05
          },
          "xaxis": {
           "automargin": true,
           "gridcolor": "white",
           "linecolor": "white",
           "ticks": "",
           "title": {
            "standoff": 15
           },
           "zerolinecolor": "white",
           "zerolinewidth": 2
          },
          "yaxis": {
           "automargin": true,
           "gridcolor": "white",
           "linecolor": "white",
           "ticks": "",
           "title": {
            "standoff": 15
           },
           "zerolinecolor": "white",
           "zerolinewidth": 2
          }
         }
        },
        "title": {
         "text": "Top 10 Countries: Death vs Recovery Rates"
        },
        "xaxis": {
         "anchor": "y",
         "domain": [
          0,
          1
         ],
         "title": {
          "text": "Country"
         }
        },
        "yaxis": {
         "anchor": "x",
         "domain": [
          0,
          1
         ],
         "title": {
          "text": "value"
         }
        }
       }
      }
     },
     "metadata": {},
     "output_type": "display_data"
    }
   ],
   "source": [
    "# Death & Recovery Rates for Top Countries\n",
    "\n",
    "top = country_rates.head(10).reset_index()\n",
    "\n",
    "fig = px.bar(top, x='Country', y=['DeathRate', 'RecoveryRate'],\n",
    "             barmode='group', title='Top 10 Countries: Death vs Recovery Rates')\n",
    "fig.show()\n"
   ]
  },
  {
   "cell_type": "markdown",
   "id": "e5816010",
   "metadata": {},
   "source": [
    "Export Cleaned Data"
   ]
  },
  {
   "cell_type": "code",
   "execution_count": null,
   "id": "de382018",
   "metadata": {},
   "outputs": [],
   "source": [
    "df.to_csv('covid_final_cleaned.csv', index=False)"
   ]
  },
  {
   "cell_type": "markdown",
   "id": "e579d496",
   "metadata": {},
   "source": [
    "INSIGHTS\n",
    "\n",
    "- **Top countries**: USA, India, Brazil led in total confirmed cases.\n",
    "- **Global trend**: Case count grew sharply during early 2020, then flattened.\n",
    "- **Recovery Rate**: India showed a strong upward trend post-peak.\n",
    "- **Death Rate**: Countries like Italy and UK had higher early fatality percentages."
   ]
  }
 ],
 "metadata": {
  "kernelspec": {
   "display_name": "Python 3",
   "language": "python",
   "name": "python3"
  },
  "language_info": {
   "codemirror_mode": {
    "name": "ipython",
    "version": 3
   },
   "file_extension": ".py",
   "mimetype": "text/x-python",
   "name": "python",
   "nbconvert_exporter": "python",
   "pygments_lexer": "ipython3",
   "version": "3.13.2"
  }
 },
 "nbformat": 4,
 "nbformat_minor": 5
}
